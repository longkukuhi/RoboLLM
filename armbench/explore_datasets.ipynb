{
 "cells": [
  {
   "cell_type": "code",
   "execution_count": 17,
   "metadata": {
    "collapsed": true,
    "ExecuteTime": {
     "end_time": "2023-08-07T18:26:47.264529700Z",
     "start_time": "2023-08-07T18:26:47.229527200Z"
    }
   },
   "outputs": [],
   "source": [
    "from torchvision.datasets import ImageFolder\n",
    "from tqdm import tqdm"
   ]
  },
  {
   "cell_type": "code",
   "execution_count": 9,
   "outputs": [],
   "source": [
    "reference_images = ImageFolder(root='../../datasets/armbench-object-id/Reference_Images/',)"
   ],
   "metadata": {
    "collapsed": false,
    "ExecuteTime": {
     "end_time": "2023-08-07T18:20:31.505277300Z",
     "start_time": "2023-08-07T18:20:20.277567100Z"
    }
   }
  },
  {
   "cell_type": "code",
   "execution_count": 10,
   "outputs": [],
   "source": [
    "pick_images_train = ImageFolder(root='../../datasets/armbench-object-id/Picks_splits/train/',)\n",
    "pick_images_test = ImageFolder(root='../../datasets/armbench-object-id/Picks_splits/test/',)"
   ],
   "metadata": {
    "collapsed": false,
    "ExecuteTime": {
     "end_time": "2023-08-07T18:20:45.670686200Z",
     "start_time": "2023-08-07T18:20:31.507274700Z"
    }
   }
  },
  {
   "cell_type": "code",
   "execution_count": 2,
   "outputs": [],
   "source": [
    "import pandas as pd\n",
    "\n",
    "obj = pd.read_pickle('../../datasets/armbench-object-id/train-test-split.pickle')"
   ],
   "metadata": {
    "collapsed": false,
    "ExecuteTime": {
     "end_time": "2023-08-07T18:18:20.012533800Z",
     "start_time": "2023-08-07T18:18:19.758635Z"
    }
   }
  },
  {
   "cell_type": "code",
   "execution_count": 3,
   "outputs": [
    {
     "data": {
      "text/plain": "dict_keys(['trainset', 'testset', 'trainset-objects', 'testset-objects'])"
     },
     "execution_count": 3,
     "metadata": {},
     "output_type": "execute_result"
    }
   ],
   "source": [
    "obj.keys()"
   ],
   "metadata": {
    "collapsed": false,
    "ExecuteTime": {
     "end_time": "2023-08-07T18:18:20.959745100Z",
     "start_time": "2023-08-07T18:18:20.939744600Z"
    }
   }
  },
  {
   "cell_type": "code",
   "execution_count": 6,
   "outputs": [
    {
     "data": {
      "text/plain": "50000"
     },
     "execution_count": 6,
     "metadata": {},
     "output_type": "execute_result"
    }
   ],
   "source": [
    "len(obj['testset'])"
   ],
   "metadata": {
    "collapsed": false,
    "ExecuteTime": {
     "end_time": "2023-08-07T18:19:32.274246700Z",
     "start_time": "2023-08-07T18:19:32.218735400Z"
    }
   }
  },
  {
   "cell_type": "code",
   "execution_count": 9,
   "outputs": [],
   "source": [
    "import shutil\n",
    "import os\n",
    "for pick_id in obj['trainset']:\n",
    "    shutil.move(f'../../datasets/armbench-object-id/Picks/{pick_id}', f'../../datasets/armbench-object-id/Picks_splits/train/{pick_id}')"
   ],
   "metadata": {
    "collapsed": false,
    "ExecuteTime": {
     "end_time": "2023-08-05T10:45:38.405738800Z",
     "start_time": "2023-08-05T10:44:34.454546100Z"
    }
   }
  },
  {
   "cell_type": "code",
   "execution_count": 10,
   "outputs": [],
   "source": [
    "for pick_id in obj['testset']:\n",
    "    shutil.move(f'../../datasets/armbench-object-id/Picks/{pick_id}', f'../../datasets/armbench-object-id/Picks_splits/test/{pick_id}')"
   ],
   "metadata": {
    "collapsed": false,
    "ExecuteTime": {
     "end_time": "2023-08-05T10:45:44.860443200Z",
     "start_time": "2023-08-05T10:45:38.405738800Z"
    }
   }
  },
  {
   "cell_type": "code",
   "execution_count": 22,
   "outputs": [],
   "source": [
    "import json\n",
    "label_dict = {}\n",
    "for file in os.listdir('../../datasets/armbench-object-id/Picks_splits/train/'):\n",
    "    with open(f'../../datasets/armbench-object-id/Picks_splits/train/{file}/annotation.json', 'r') as f:\n",
    "        annotation = json.load(f)\n",
    "    label_dict[file] = annotation[\"GT_ID\"]\n",
    "\n",
    "# save into json file\n",
    "with open('../../datasets/armbench-object-id/Picks_splits/train_label_dict.json', 'w') as f:\n",
    "    json.dump(label_dict, f)"
   ],
   "metadata": {
    "collapsed": false,
    "ExecuteTime": {
     "end_time": "2023-08-05T11:02:38.931411200Z",
     "start_time": "2023-08-05T10:53:35.749155600Z"
    }
   }
  },
  {
   "cell_type": "code",
   "execution_count": 23,
   "outputs": [],
   "source": [
    "label_dict = {}\n",
    "for file in os.listdir('../../datasets/armbench-object-id/Picks_splits/test/'):\n",
    "    with open(f'../../datasets/armbench-object-id/Picks_splits/test/{file}/annotation.json', 'r') as f:\n",
    "        annotation = json.load(f)\n",
    "    label_dict[file] = annotation[\"GT_ID\"]\n",
    "\n",
    "with open('../../datasets/armbench-object-id/Picks_splits/test_label_dict.json', 'w') as f:\n",
    "    json.dump(label_dict, f)\n"
   ],
   "metadata": {
    "collapsed": false,
    "ExecuteTime": {
     "end_time": "2023-08-05T11:05:08.553607Z",
     "start_time": "2023-08-05T11:02:38.935917200Z"
    }
   }
  },
  {
   "cell_type": "code",
   "execution_count": null,
   "outputs": [],
   "source": [
    "import json\n",
    "with open('../../datasets/armbench-object-id/Picks_splits/train_label_dict.json', 'r') as f:\n",
    "    train_labels = json.load(f)\n",
    "train_labels[0:10]"
   ],
   "metadata": {
    "collapsed": false
   }
  },
  {
   "cell_type": "code",
   "execution_count": 24,
   "outputs": [],
   "source": [
    "import json\n",
    "with open('../../datasets/armbench-object-id/Picks_splits/test_label_dict.json', 'r') as f:\n",
    "    test_labels = json.load(f)"
   ],
   "metadata": {
    "collapsed": false,
    "ExecuteTime": {
     "end_time": "2023-08-07T19:04:28.956171800Z",
     "start_time": "2023-08-07T19:04:28.930951Z"
    }
   }
  },
  {
   "cell_type": "code",
   "execution_count": 18,
   "outputs": [
    {
     "name": "stdout",
     "output_type": "stream",
     "text": [
      "Before cleaning:  185495  classes\n"
     ]
    },
    {
     "name": "stderr",
     "output_type": "stream",
     "text": [
      " 63%|██████▎   | 117558/185495 [01:03<00:36, 1880.52it/s]"
     ]
    },
    {
     "name": "stdout",
     "output_type": "stream",
     "text": [
      "008023001652744517593 0307975878\n"
     ]
    },
    {
     "name": "stderr",
     "output_type": "stream",
     "text": [
      " 83%|████████▎ | 153047/185495 [01:22<00:18, 1800.23it/s]"
     ]
    },
    {
     "name": "stdout",
     "output_type": "stream",
     "text": [
      "011056001651754233153 B074DXQ4V9\n"
     ]
    },
    {
     "name": "stderr",
     "output_type": "stream",
     "text": [
      "100%|██████████| 185495/185495 [01:38<00:00, 1879.09it/s]"
     ]
    },
    {
     "name": "stdout",
     "output_type": "stream",
     "text": [
      "After cleaning:  185493  classes\n"
     ]
    },
    {
     "name": "stderr",
     "output_type": "stream",
     "text": [
      "\n"
     ]
    }
   ],
   "source": [
    "no_ref_pick_ids = []\n",
    "valid_train_labels = train_labels.copy()\n",
    "print(\"Before cleaning: \", len(valid_train_labels), \" classes\")\n",
    "for key, item in tqdm(train_labels.items()):\n",
    "    if item not in reference_images.classes:\n",
    "        valid_train_labels.pop(key)\n",
    "        print(key, item)\n",
    "        no_ref_pick_ids.append(key)\n",
    "print(\"After cleaning: \", len(valid_train_labels), \" classes\")"
   ],
   "metadata": {
    "collapsed": false,
    "ExecuteTime": {
     "end_time": "2023-08-07T18:28:37.175824100Z",
     "start_time": "2023-08-07T18:26:58.442110700Z"
    }
   }
  },
  {
   "cell_type": "code",
   "execution_count": 25,
   "outputs": [
    {
     "name": "stdout",
     "output_type": "stream",
     "text": [
      "Before cleaning:  50000  classes\n"
     ]
    },
    {
     "name": "stderr",
     "output_type": "stream",
     "text": [
      "100%|██████████| 50000/50000 [00:26<00:00, 1855.89it/s]"
     ]
    },
    {
     "name": "stdout",
     "output_type": "stream",
     "text": [
      "After cleaning:  50000  classes\n"
     ]
    },
    {
     "name": "stderr",
     "output_type": "stream",
     "text": [
      "\n"
     ]
    }
   ],
   "source": [
    "no_ref_pick_ids = []\n",
    "valid_test_labels = test_labels.copy()\n",
    "print(\"Before cleaning: \", len(valid_test_labels), \" classes\")\n",
    "for key, item in tqdm(test_labels.items()):\n",
    "    if item not in reference_images.classes:\n",
    "        valid_test_labels.pop(key)\n",
    "        print(key, item)\n",
    "        no_ref_pick_ids.append(key)\n",
    "print(\"After cleaning: \", len(valid_test_labels), \" classes\")"
   ],
   "metadata": {
    "collapsed": false,
    "ExecuteTime": {
     "end_time": "2023-08-07T19:05:01.666668200Z",
     "start_time": "2023-08-07T19:04:34.714450200Z"
    }
   }
  },
  {
   "cell_type": "code",
   "execution_count": 21,
   "outputs": [],
   "source": [
    "import shutil\n",
    "import os\n",
    "shutil.rmtree('../../datasets/armbench-object-id/Picks_splits/train/008023001652744517593')"
   ],
   "metadata": {
    "collapsed": false,
    "ExecuteTime": {
     "end_time": "2023-08-07T18:52:23.749203500Z",
     "start_time": "2023-08-07T18:52:23.715200900Z"
    }
   }
  },
  {
   "cell_type": "code",
   "execution_count": 22,
   "outputs": [],
   "source": [
    "import shutil\n",
    "import os\n",
    "shutil.rmtree('../../datasets/armbench-object-id/Picks_splits/train/011056001651754233153')"
   ],
   "metadata": {
    "collapsed": false,
    "ExecuteTime": {
     "end_time": "2023-08-07T18:52:54.786335300Z",
     "start_time": "2023-08-07T18:52:54.754825300Z"
    }
   }
  },
  {
   "cell_type": "code",
   "execution_count": 19,
   "outputs": [],
   "source": [
    "with open('../../datasets/armbench-object-id/Picks_splits/train_label_dict.json', 'w') as f:\n",
    "    json.dump(valid_train_labels, f)\n",
    "\n",
    "with open('../../datasets/armbench-object-id/Picks_splits/no_ref_pick_ids.json', 'w') as f:\n",
    "    json.dump(no_ref_pick_ids, f)"
   ],
   "metadata": {
    "collapsed": false,
    "ExecuteTime": {
     "end_time": "2023-08-07T18:28:51.497759900Z",
     "start_time": "2023-08-07T18:28:51.387509600Z"
    }
   }
  },
  {
   "cell_type": "code",
   "execution_count": null,
   "outputs": [],
   "source": [],
   "metadata": {
    "collapsed": false
   }
  },
  {
   "cell_type": "code",
   "execution_count": 20,
   "outputs": [
    {
     "data": {
      "text/plain": "False"
     },
     "execution_count": 20,
     "metadata": {},
     "output_type": "execute_result"
    }
   ],
   "source": [
    "'X00308OLCX' in valid_train_labels.keys()\n"
   ],
   "metadata": {
    "collapsed": false,
    "ExecuteTime": {
     "end_time": "2023-08-07T18:48:35.793169300Z",
     "start_time": "2023-08-07T18:48:35.762165900Z"
    }
   }
  },
  {
   "cell_type": "code",
   "execution_count": null,
   "outputs": [],
   "source": [],
   "metadata": {
    "collapsed": false
   }
  },
  {
   "cell_type": "code",
   "execution_count": null,
   "outputs": [],
   "source": [],
   "metadata": {
    "collapsed": false
   }
  },
  {
   "cell_type": "code",
   "execution_count": null,
   "outputs": [],
   "source": [],
   "metadata": {
    "collapsed": false
   }
  },
  {
   "cell_type": "code",
   "execution_count": 82,
   "outputs": [
    {
     "data": {
      "text/plain": "3"
     },
     "execution_count": 82,
     "metadata": {},
     "output_type": "execute_result"
    }
   ],
   "source": [
    "pick_images.class_to_idx['001001001652120609820']"
   ],
   "metadata": {
    "collapsed": false,
    "ExecuteTime": {
     "end_time": "2023-08-05T14:44:09.238193Z",
     "start_time": "2023-08-05T14:44:09.212680500Z"
    }
   }
  },
  {
   "cell_type": "code",
   "execution_count": 74,
   "outputs": [
    {
     "data": {
      "text/plain": "list"
     },
     "execution_count": 74,
     "metadata": {},
     "output_type": "execute_result"
    }
   ],
   "source": [
    "type(pick_images.targets)"
   ],
   "metadata": {
    "collapsed": false,
    "ExecuteTime": {
     "end_time": "2023-08-05T12:47:05.119603900Z",
     "start_time": "2023-08-05T12:47:05.086082800Z"
    }
   }
  },
  {
   "cell_type": "code",
   "execution_count": 76,
   "outputs": [
    {
     "data": {
      "text/plain": "array([ True,  True,  True, ..., False, False, False])"
     },
     "execution_count": 76,
     "metadata": {},
     "output_type": "execute_result"
    }
   ],
   "source": [
    "import numpy as np\n",
    "np.array(pick_images.targets)==0"
   ],
   "metadata": {
    "collapsed": false,
    "ExecuteTime": {
     "end_time": "2023-08-05T12:47:54.012571500Z",
     "start_time": "2023-08-05T12:47:53.946935200Z"
    }
   }
  },
  {
   "cell_type": "code",
   "execution_count": 83,
   "outputs": [
    {
     "data": {
      "text/plain": "[10, 11, 12, 13]"
     },
     "execution_count": 83,
     "metadata": {},
     "output_type": "execute_result"
    }
   ],
   "source": [
    "[idx for idx, x in enumerate(pick_images.targets) if x == 3]"
   ],
   "metadata": {
    "collapsed": false,
    "ExecuteTime": {
     "end_time": "2023-08-05T14:44:17.283885800Z",
     "start_time": "2023-08-05T14:44:17.257887600Z"
    }
   }
  },
  {
   "cell_type": "code",
   "execution_count": null,
   "outputs": [],
   "source": [],
   "metadata": {
    "collapsed": false
   }
  },
  {
   "cell_type": "markdown",
   "source": [
    "# build clean dataset"
   ],
   "metadata": {
    "collapsed": false
   }
  },
  {
   "cell_type": "code",
   "execution_count": 31,
   "outputs": [
    {
     "name": "stdout",
     "output_type": "stream",
     "text": [
      "Before cleaning:  185495  classes\n"
     ]
    },
    {
     "name": "stderr",
     "output_type": "stream",
     "text": [
      " 63%|██████▎   | 117160/185495 [24:40<14:23, 79.13it/s]\n"
     ]
    },
    {
     "ename": "FileNotFoundError",
     "evalue": "[Errno 2] No such file or directory: '../../datasets/armbench-object-id/Picks_splits/train/008023001652744517593/'",
     "output_type": "error",
     "traceback": [
      "\u001B[1;31m---------------------------------------------------------------------------\u001B[0m",
      "\u001B[1;31mFileNotFoundError\u001B[0m                         Traceback (most recent call last)",
      "File \u001B[1;32m~\\AppData\\Local\\Programs\\Python\\Python310\\lib\\shutil.py:816\u001B[0m, in \u001B[0;36mmove\u001B[1;34m(src, dst, copy_function)\u001B[0m\n\u001B[0;32m    815\u001B[0m \u001B[38;5;28;01mtry\u001B[39;00m:\n\u001B[1;32m--> 816\u001B[0m     \u001B[43mos\u001B[49m\u001B[38;5;241;43m.\u001B[39;49m\u001B[43mrename\u001B[49m\u001B[43m(\u001B[49m\u001B[43msrc\u001B[49m\u001B[43m,\u001B[49m\u001B[43m \u001B[49m\u001B[43mreal_dst\u001B[49m\u001B[43m)\u001B[49m\n\u001B[0;32m    817\u001B[0m \u001B[38;5;28;01mexcept\u001B[39;00m \u001B[38;5;167;01mOSError\u001B[39;00m:\n",
      "\u001B[1;31mFileNotFoundError\u001B[0m: [WinError 2] The system cannot find the file specified: '../../datasets/armbench-object-id/Picks_splits/train/008023001652744517593/' -> '../../datasets/armbench-object-id/Picks_splits/train_over3image/008023001652744517593/'",
      "\nDuring handling of the above exception, another exception occurred:\n",
      "\u001B[1;31mFileNotFoundError\u001B[0m                         Traceback (most recent call last)",
      "Cell \u001B[1;32mIn[31], line 13\u001B[0m\n\u001B[0;32m     11\u001B[0m     \u001B[38;5;28;01mif\u001B[39;00m \u001B[38;5;28mlen\u001B[39m(ids) \u001B[38;5;241m>\u001B[39m \u001B[38;5;241m3\u001B[39m:\n\u001B[0;32m     12\u001B[0m         ids \u001B[38;5;241m=\u001B[39m ids[\u001B[38;5;241m1\u001B[39m:]\n\u001B[1;32m---> 13\u001B[0m     \u001B[43mshutil\u001B[49m\u001B[38;5;241;43m.\u001B[39;49m\u001B[43mmove\u001B[49m\u001B[43m(\u001B[49m\u001B[38;5;124;43mf\u001B[39;49m\u001B[38;5;124;43m\"\u001B[39;49m\u001B[38;5;124;43m../../datasets/armbench-object-id/Picks_splits/train/\u001B[39;49m\u001B[38;5;132;43;01m{\u001B[39;49;00m\u001B[43mpick_images_train\u001B[49m\u001B[38;5;241;43m.\u001B[39;49m\u001B[43mclasses\u001B[49m\u001B[43m[\u001B[49m\u001B[43mclsidx\u001B[49m\u001B[43m]\u001B[49m\u001B[38;5;132;43;01m}\u001B[39;49;00m\u001B[38;5;124;43m/\u001B[39;49m\u001B[38;5;124;43m\"\u001B[39;49m\u001B[43m,\u001B[49m\u001B[43m \u001B[49m\u001B[38;5;124;43mf\u001B[39;49m\u001B[38;5;124;43m\"\u001B[39;49m\u001B[38;5;124;43m../../datasets/armbench-object-id/Picks_splits/train_over3image/\u001B[39;49m\u001B[38;5;132;43;01m{\u001B[39;49;00m\u001B[43mpick_images_train\u001B[49m\u001B[38;5;241;43m.\u001B[39;49m\u001B[43mclasses\u001B[49m\u001B[43m[\u001B[49m\u001B[43mclsidx\u001B[49m\u001B[43m]\u001B[49m\u001B[38;5;132;43;01m}\u001B[39;49;00m\u001B[38;5;124;43m/\u001B[39;49m\u001B[38;5;124;43m\"\u001B[39;49m\u001B[43m)\u001B[49m\n\u001B[0;32m     14\u001B[0m     target_ids\u001B[38;5;241m.\u001B[39mappend(ids)\n\u001B[0;32m     16\u001B[0m \u001B[38;5;28mprint\u001B[39m(\u001B[38;5;124m\"\u001B[39m\u001B[38;5;124mAfter cleaning: \u001B[39m\u001B[38;5;124m\"\u001B[39m, \u001B[38;5;28mlen\u001B[39m(target_ids), \u001B[38;5;124m\"\u001B[39m\u001B[38;5;124m classes\u001B[39m\u001B[38;5;124m\"\u001B[39m)\n",
      "File \u001B[1;32m~\\AppData\\Local\\Programs\\Python\\Python310\\lib\\shutil.py:836\u001B[0m, in \u001B[0;36mmove\u001B[1;34m(src, dst, copy_function)\u001B[0m\n\u001B[0;32m    834\u001B[0m         rmtree(src)\n\u001B[0;32m    835\u001B[0m     \u001B[38;5;28;01melse\u001B[39;00m:\n\u001B[1;32m--> 836\u001B[0m         \u001B[43mcopy_function\u001B[49m\u001B[43m(\u001B[49m\u001B[43msrc\u001B[49m\u001B[43m,\u001B[49m\u001B[43m \u001B[49m\u001B[43mreal_dst\u001B[49m\u001B[43m)\u001B[49m\n\u001B[0;32m    837\u001B[0m         os\u001B[38;5;241m.\u001B[39munlink(src)\n\u001B[0;32m    838\u001B[0m \u001B[38;5;28;01mreturn\u001B[39;00m real_dst\n",
      "File \u001B[1;32m~\\AppData\\Local\\Programs\\Python\\Python310\\lib\\shutil.py:434\u001B[0m, in \u001B[0;36mcopy2\u001B[1;34m(src, dst, follow_symlinks)\u001B[0m\n\u001B[0;32m    432\u001B[0m \u001B[38;5;28;01mif\u001B[39;00m os\u001B[38;5;241m.\u001B[39mpath\u001B[38;5;241m.\u001B[39misdir(dst):\n\u001B[0;32m    433\u001B[0m     dst \u001B[38;5;241m=\u001B[39m os\u001B[38;5;241m.\u001B[39mpath\u001B[38;5;241m.\u001B[39mjoin(dst, os\u001B[38;5;241m.\u001B[39mpath\u001B[38;5;241m.\u001B[39mbasename(src))\n\u001B[1;32m--> 434\u001B[0m \u001B[43mcopyfile\u001B[49m\u001B[43m(\u001B[49m\u001B[43msrc\u001B[49m\u001B[43m,\u001B[49m\u001B[43m \u001B[49m\u001B[43mdst\u001B[49m\u001B[43m,\u001B[49m\u001B[43m \u001B[49m\u001B[43mfollow_symlinks\u001B[49m\u001B[38;5;241;43m=\u001B[39;49m\u001B[43mfollow_symlinks\u001B[49m\u001B[43m)\u001B[49m\n\u001B[0;32m    435\u001B[0m copystat(src, dst, follow_symlinks\u001B[38;5;241m=\u001B[39mfollow_symlinks)\n\u001B[0;32m    436\u001B[0m \u001B[38;5;28;01mreturn\u001B[39;00m dst\n",
      "File \u001B[1;32m~\\AppData\\Local\\Programs\\Python\\Python310\\lib\\shutil.py:254\u001B[0m, in \u001B[0;36mcopyfile\u001B[1;34m(src, dst, follow_symlinks)\u001B[0m\n\u001B[0;32m    252\u001B[0m     os\u001B[38;5;241m.\u001B[39msymlink(os\u001B[38;5;241m.\u001B[39mreadlink(src), dst)\n\u001B[0;32m    253\u001B[0m \u001B[38;5;28;01melse\u001B[39;00m:\n\u001B[1;32m--> 254\u001B[0m     \u001B[38;5;28;01mwith\u001B[39;00m \u001B[38;5;28;43mopen\u001B[39;49m\u001B[43m(\u001B[49m\u001B[43msrc\u001B[49m\u001B[43m,\u001B[49m\u001B[43m \u001B[49m\u001B[38;5;124;43m'\u001B[39;49m\u001B[38;5;124;43mrb\u001B[39;49m\u001B[38;5;124;43m'\u001B[39;49m\u001B[43m)\u001B[49m \u001B[38;5;28;01mas\u001B[39;00m fsrc:\n\u001B[0;32m    255\u001B[0m         \u001B[38;5;28;01mtry\u001B[39;00m:\n\u001B[0;32m    256\u001B[0m             \u001B[38;5;28;01mwith\u001B[39;00m \u001B[38;5;28mopen\u001B[39m(dst, \u001B[38;5;124m'\u001B[39m\u001B[38;5;124mwb\u001B[39m\u001B[38;5;124m'\u001B[39m) \u001B[38;5;28;01mas\u001B[39;00m fdst:\n\u001B[0;32m    257\u001B[0m                 \u001B[38;5;66;03m# macOS\u001B[39;00m\n",
      "\u001B[1;31mFileNotFoundError\u001B[0m: [Errno 2] No such file or directory: '../../datasets/armbench-object-id/Picks_splits/train/008023001652744517593/'"
     ]
    }
   ],
   "source": [
    "from tqdm import tqdm\n",
    "import shutil\n",
    "pick_up_classes = pick_images_train.classes.copy()\n",
    "print(\"Before cleaning: \", len(pick_up_classes), \" classes\")\n",
    "target_ids = []\n",
    "for clsidx in tqdm(range(len(pick_images_train.classes))):\n",
    "    ids = [idx for idx, x in enumerate(pick_images_train.targets) if x == clsidx]\n",
    "    if len(ids) < 3:\n",
    "        pick_up_classes.remove(pick_images_train.classes[clsidx])\n",
    "        continue\n",
    "    if len(ids) > 3:\n",
    "        ids = ids[1:]\n",
    "    shutil.move(f\"../../datasets/armbench-object-id/Picks_splits/train/{pick_images_train.classes[clsidx]}/\", f\"../../datasets/armbench-object-id/Picks_splits/train_over3image/{pick_images_train.classes[clsidx]}/\")\n",
    "    target_ids.append(ids)\n",
    "\n",
    "print(\"After cleaning: \", len(target_ids), \" classes\")\n",
    "np.save('../../datasets/armbench-object-id/Picks_splits/train_target_ids_over3image.npy', target_ids)\n",
    "np.save('../../datasets/armbench-object-id/Picks_splits/train_classes_over3image.npy', pick_up_classes)"
   ],
   "metadata": {
    "collapsed": false,
    "ExecuteTime": {
     "end_time": "2023-08-07T19:34:01.471421900Z",
     "start_time": "2023-08-07T19:09:20.824587Z"
    }
   }
  },
  {
   "cell_type": "code",
   "execution_count": null,
   "outputs": [],
   "source": [],
   "metadata": {
    "collapsed": false
   }
  }
 ],
 "metadata": {
  "kernelspec": {
   "display_name": "Python 3",
   "language": "python",
   "name": "python3"
  },
  "language_info": {
   "codemirror_mode": {
    "name": "ipython",
    "version": 2
   },
   "file_extension": ".py",
   "mimetype": "text/x-python",
   "name": "python",
   "nbconvert_exporter": "python",
   "pygments_lexer": "ipython2",
   "version": "2.7.6"
  }
 },
 "nbformat": 4,
 "nbformat_minor": 0
}
