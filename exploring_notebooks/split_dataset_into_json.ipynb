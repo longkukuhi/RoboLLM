{
 "cells": [
  {
   "cell_type": "markdown",
   "source": [
    "# Preparation work"
   ],
   "metadata": {
    "collapsed": false
   }
  },
  {
   "cell_type": "markdown",
   "source": [
    "## Download dataset"
   ],
   "metadata": {
    "collapsed": false
   }
  },
  {
   "cell_type": "code",
   "execution_count": 1,
   "outputs": [],
   "source": [
    "from datasets import load_dataset"
   ],
   "metadata": {
    "collapsed": false,
    "ExecuteTime": {
     "end_time": "2023-07-31T20:04:02.822209100Z",
     "start_time": "2023-07-31T20:04:02.226236800Z"
    }
   }
  },
  {
   "cell_type": "code",
   "execution_count": 2,
   "outputs": [
    {
     "data": {
      "text/plain": "Resolving data files:   0%|          | 0/361 [00:00<?, ?it/s]",
      "application/vnd.jupyter.widget-view+json": {
       "version_major": 2,
       "version_minor": 0,
       "model_id": "89f2e1318c46446c97bf76995c8f9452"
      }
     },
     "metadata": {},
     "output_type": "display_data"
    },
    {
     "data": {
      "text/plain": "Downloading data files:   0%|          | 0/1 [00:00<?, ?it/s]",
      "application/vnd.jupyter.widget-view+json": {
       "version_major": 2,
       "version_minor": 0,
       "model_id": "804626654d4047ffa46a51d7a122bb79"
      }
     },
     "metadata": {},
     "output_type": "display_data"
    },
    {
     "data": {
      "text/plain": "Downloading data:   0%|          | 0.00/481M [00:00<?, ?B/s]",
      "application/vnd.jupyter.widget-view+json": {
       "version_major": 2,
       "version_minor": 0,
       "model_id": "773b9aee8a3b4c8d8ed5efeeb827fb1d"
      }
     },
     "metadata": {},
     "output_type": "display_data"
    },
    {
     "name": "stderr",
     "output_type": "stream",
     "text": [
      "\n",
      "KeyboardInterrupt\n",
      "\n"
     ]
    }
   ],
   "source": [
    "dataset_image = load_dataset(\"TREC-AToMiC/AToMiC-Images-v0.2\", split='train')"
   ],
   "metadata": {
    "collapsed": false,
    "ExecuteTime": {
     "end_time": "2023-07-31T20:04:10.573714800Z",
     "start_time": "2023-07-31T20:04:04.682091600Z"
    }
   }
  },
  {
   "cell_type": "markdown",
   "source": [],
   "metadata": {
    "collapsed": false
   }
  },
  {
   "cell_type": "code",
   "execution_count": 2,
   "outputs": [
    {
     "name": "stderr",
     "output_type": "stream",
     "text": [
      "Found cached dataset parquet (C:/Users/longk/.cache/huggingface/datasets/TREC-AToMiC___parquet/TREC-AToMiC--AToMiC-Texts-v0.2.1-a4ead8becdf71aaf/0.0.0/14a00e99c0d15a23649d0db8944380ac81082d4b021f398733dd84f3a6c569a7)\n"
     ]
    },
    {
     "data": {
      "text/plain": "  0%|          | 0/1 [00:00<?, ?it/s]",
      "application/vnd.jupyter.widget-view+json": {
       "version_major": 2,
       "version_minor": 0,
       "model_id": "c3db7303b896469586060edd27bf7fc7"
      }
     },
     "metadata": {},
     "output_type": "display_data"
    }
   ],
   "source": [
    "dataset_text = load_dataset(\"TREC-AToMiC/AToMiC-Texts-v0.2.1\",)"
   ],
   "metadata": {
    "collapsed": false,
    "ExecuteTime": {
     "end_time": "2023-07-03T20:30:59.378948200Z",
     "start_time": "2023-07-03T20:30:56.814041800Z"
    }
   }
  },
  {
   "cell_type": "code",
   "execution_count": 7,
   "outputs": [
    {
     "data": {
      "text/plain": "dict_keys(['train'])"
     },
     "execution_count": 7,
     "metadata": {},
     "output_type": "execute_result"
    }
   ],
   "source": [
    "dataset_text.keys()"
   ],
   "metadata": {
    "collapsed": false,
    "ExecuteTime": {
     "end_time": "2023-07-03T20:35:17.043884700Z",
     "start_time": "2023-07-03T20:35:17.036885100Z"
    }
   }
  },
  {
   "cell_type": "code",
   "execution_count": 3,
   "outputs": [
    {
     "name": "stderr",
     "output_type": "stream",
     "text": [
      "Found cached dataset parquet (C:/Users/longk/.cache/huggingface/datasets/TREC-AToMiC___parquet/TREC-AToMiC--AToMiC-Qrels-v0.2-f1634624281fffa7/0.0.0/14a00e99c0d15a23649d0db8944380ac81082d4b021f398733dd84f3a6c569a7)\n"
     ]
    },
    {
     "data": {
      "text/plain": "  0%|          | 0/3 [00:00<?, ?it/s]",
      "application/vnd.jupyter.widget-view+json": {
       "version_major": 2,
       "version_minor": 0,
       "model_id": "070ff6d700d2411384ad71fd0a0b0ad6"
      }
     },
     "metadata": {},
     "output_type": "display_data"
    }
   ],
   "source": [
    "dataset_qrels = load_dataset(\"TREC-AToMiC/AToMiC-Qrels-v0.2\",)"
   ],
   "metadata": {
    "collapsed": false,
    "ExecuteTime": {
     "end_time": "2023-07-15T22:27:44.620055900Z",
     "start_time": "2023-07-15T22:27:43.248872300Z"
    }
   }
  },
  {
   "cell_type": "code",
   "execution_count": 5,
   "outputs": [
    {
     "data": {
      "text/plain": "dict_keys(['train', 'validation', 'test'])"
     },
     "execution_count": 5,
     "metadata": {},
     "output_type": "execute_result"
    }
   ],
   "source": [
    "dataset_qrels.keys()"
   ],
   "metadata": {
    "collapsed": false,
    "ExecuteTime": {
     "end_time": "2023-07-03T19:45:48.896755500Z",
     "start_time": "2023-07-03T19:45:48.880249200Z"
    }
   }
  },
  {
   "cell_type": "code",
   "execution_count": 8,
   "outputs": [
    {
     "data": {
      "text/plain": "Dataset({\n    features: ['text_id', 'Q0', 'image_id', 'rel'],\n    num_rows: 4401903\n})"
     },
     "execution_count": 8,
     "metadata": {},
     "output_type": "execute_result"
    }
   ],
   "source": [
    "dataset_qrels['train']"
   ],
   "metadata": {
    "collapsed": false,
    "ExecuteTime": {
     "end_time": "2023-07-03T19:50:16.236230200Z",
     "start_time": "2023-07-03T19:50:16.188722500Z"
    }
   }
  },
  {
   "cell_type": "markdown",
   "source": [
    "## Explore the dataset"
   ],
   "metadata": {
    "collapsed": false
   }
  },
  {
   "cell_type": "markdown",
   "source": [
    "### Image"
   ],
   "metadata": {
    "collapsed": false
   }
  },
  {
   "cell_type": "code",
   "execution_count": null,
   "outputs": [],
   "source": [
    "dataset_image"
   ],
   "metadata": {
    "collapsed": false
   }
  },
  {
   "cell_type": "code",
   "execution_count": 3,
   "outputs": [
    {
     "name": "stdout",
     "output_type": "stream",
     "text": [
      "{'image_url': Value(dtype='string', id=None), 'image_id': Value(dtype='string', id=None), 'language': Sequence(feature=Value(dtype='string', id=None), length=-1, id=None), 'caption_reference_description': Sequence(feature=Value(dtype='string', id=None), length=-1, id=None), 'caption_alt_text_description': Sequence(feature=Value(dtype='string', id=None), length=-1, id=None), 'caption_attribution_description': Sequence(feature=Value(dtype='string', id=None), length=-1, id=None), 'image': Image(decode=True, id=None)}\n"
     ]
    }
   ],
   "source": [
    "# print(dataset_image.cache_dir)\n",
    "print(dataset_image.info.features)"
   ],
   "metadata": {
    "collapsed": false,
    "ExecuteTime": {
     "end_time": "2023-07-01T19:08:11.215696600Z",
     "start_time": "2023-07-01T19:08:11.185694500Z"
    }
   }
  },
  {
   "cell_type": "code",
   "execution_count": 2,
   "outputs": [
    {
     "data": {
      "text/plain": "{'image_url': 'https://upload.wikimedia.org/wikipedia/af/0/04/Kentestof.jpg',\n 'image_id': '86cd9811-1f16-3293-9a70-930bf4e53fa7',\n 'language': ['af'],\n 'caption_reference_description': ['Kentestof, die tradisionele materiaal wat deur Asjanti-koninklikes gedra is.'],\n 'caption_alt_text_description': [''],\n 'caption_attribution_description': ['Kentestof, wat deur die Asjanti-koninklikes gedra is.'],\n 'image': <PIL.WebPImagePlugin.WebPImageFile image mode=RGB size=256x384>}"
     },
     "execution_count": 2,
     "metadata": {},
     "output_type": "execute_result"
    }
   ],
   "source": [
    "dataset_image[0]"
   ],
   "metadata": {
    "collapsed": false,
    "ExecuteTime": {
     "end_time": "2023-07-01T19:08:11.184694500Z",
     "start_time": "2023-07-01T19:08:11.108394200Z"
    }
   }
  },
  {
   "cell_type": "markdown",
   "source": [
    "### Text"
   ],
   "metadata": {
    "collapsed": false
   }
  },
  {
   "cell_type": "code",
   "execution_count": 7,
   "outputs": [
    {
     "data": {
      "text/plain": "{'text_id': Value(dtype='string', id=None),\n 'page_url': Value(dtype='string', id=None),\n 'page_title': Value(dtype='string', id=None),\n 'section_title': Value(dtype='string', id=None),\n 'context_page_description': Value(dtype='string', id=None),\n 'context_section_description': Value(dtype='string', id=None),\n 'media': Sequence(feature=Value(dtype='string', id=None), length=-1, id=None),\n 'hierachy': Sequence(feature=Value(dtype='string', id=None), length=-1, id=None),\n 'category': Sequence(feature=Value(dtype='string', id=None), length=-1, id=None),\n 'source_id': Value(dtype='string', id=None)}"
     },
     "execution_count": 7,
     "metadata": {},
     "output_type": "execute_result"
    }
   ],
   "source": [
    "dataset_text.info.features"
   ],
   "metadata": {
    "collapsed": false,
    "ExecuteTime": {
     "end_time": "2023-07-01T19:10:03.886215Z",
     "start_time": "2023-07-01T19:10:03.869214200Z"
    }
   }
  },
  {
   "cell_type": "code",
   "execution_count": 8,
   "outputs": [
    {
     "data": {
      "text/plain": "{'text_id': 'projected-20460173-000',\n 'page_url': 'https://en.wikipedia.org/wiki/Sayf%20al-Din%20Ghazi%20II',\n 'page_title': 'Sayf al-Din Ghazi II',\n 'section_title': 'Introduction',\n 'context_page_description': '',\n 'context_section_description': \"Sayf al-Din Ghazi (II) ibn Mawdud (; full name: Sayf al-Din Ghazi II ibn Mawdud ibn Zengi; died 1180) was a Zangid Emir of Mosul, the nephew of Nur ad-Din Zengi. \\n\\nHe became Emir of Mosul in 1170 after the death of his father Qutb ad-Din Mawdud. Saif had been chosen as the successor under the advice of eunuch ’Abd al-Masish, who wanted to keep the effective rule in lieu of the young emir; the disinherited son of Mawdud, Imad ad-Din Zengi II, fled to Aleppo at the court of Nur ad-Din. The latter, who was waiting for an excuse to annex Mosul, conquered Sinjar in September 1170 and besieged Mosul, which surrendered on 22 January 1171. After ousting al-Masish, he put Gümüshtekin, one of his officers, as governor, leaving Saif ud-Din nothing but the nominal title of emir. The latter also married the daughter of Nur ad-Din. \\n\\nAt Nur ad-Din's death (May 1174), Gümüshtekin went to Damascus to take control of his son and entitled himself of atabeg of Aleppo. Saif ud-Din rejected his tutorage and restored his independence. The nobles of Damascus, worried by Gümüshtekin's increasing power, offered Saif ud-Din their city, but he could not intervene since he was busy in retaking Mosul. Thenceforth Damascus was given to Saladin.\\n\\nSaladin took control of Biladu-Sham (Syria) but Saif ud-Din wanted to take over Aleppo, so he sent his brother Izz ad-Din Mas'ud at the head of an army to fight Saladin: they met in an area near Hama called Kron Hama (Arabic: قرون حماه) where Saif ud-Din was defeated. Later he prepared for another battle at Tell al-Sultan (Arabic: تل سلطان) near Aleppo, where he was also defeated; he went back to Mosul and sent messengers to Saladin offering his alliance, which was accepted.\\n\\nSaif ud-Din died from tuberculosis, and his brother Izz ad-Din Mas'ud succeeded him in 1180.\",\n 'media': [],\n 'hierachy': ['Introduction'],\n 'category': ['1180 deaths',\n  'Zengid emirs of Mosul',\n  'Muslims of the Crusades',\n  '12th-century deaths from tuberculosis',\n  'Year of birth unknown',\n  '12th-century monarchs in the Middle East',\n  'Tuberculosis deaths in Iraq'],\n 'source_id': 'wit-train-topic-003169358'}"
     },
     "execution_count": 8,
     "metadata": {},
     "output_type": "execute_result"
    }
   ],
   "source": [
    "dataset_text[0]"
   ],
   "metadata": {
    "collapsed": false,
    "ExecuteTime": {
     "end_time": "2023-07-01T19:10:10.236617800Z",
     "start_time": "2023-07-01T19:10:10.223619100Z"
    }
   }
  },
  {
   "cell_type": "markdown",
   "source": [
    "### Qrels"
   ],
   "metadata": {
    "collapsed": false
   }
  },
  {
   "cell_type": "code",
   "execution_count": 9,
   "outputs": [
    {
     "data": {
      "text/plain": "{'text_id': Value(dtype='string', id=None),\n 'Q0': Value(dtype='string', id=None),\n 'image_id': Value(dtype='string', id=None),\n 'rel': Value(dtype='int64', id=None)}"
     },
     "execution_count": 9,
     "metadata": {},
     "output_type": "execute_result"
    }
   ],
   "source": [
    "dataset_qrels.info.features"
   ],
   "metadata": {
    "collapsed": false,
    "ExecuteTime": {
     "end_time": "2023-07-01T19:14:51.034451100Z",
     "start_time": "2023-07-01T19:14:51.021447100Z"
    }
   }
  },
  {
   "cell_type": "code",
   "execution_count": 10,
   "outputs": [
    {
     "data": {
      "text/plain": "{'text_id': 'projected-02998035-000',\n 'Q0': 'Q0',\n 'image_id': '72fa6f23-be99-3584-8cb3-d803b35ebdf0',\n 'rel': 1}"
     },
     "execution_count": 10,
     "metadata": {},
     "output_type": "execute_result"
    }
   ],
   "source": [
    "dataset_qrels[0]"
   ],
   "metadata": {
    "collapsed": false,
    "ExecuteTime": {
     "end_time": "2023-07-01T19:15:00.802057500Z",
     "start_time": "2023-07-01T19:15:00.800057400Z"
    }
   }
  },
  {
   "cell_type": "code",
   "execution_count": 11,
   "outputs": [
    {
     "data": {
      "text/plain": "{'text_id': 'projected-34353338-002',\n 'Q0': 'Q0',\n 'image_id': '62151dd1-7d06-376b-b911-1fa58d7337fa',\n 'rel': 1}"
     },
     "execution_count": 11,
     "metadata": {},
     "output_type": "execute_result"
    }
   ],
   "source": [
    "dataset_qrels[1]"
   ],
   "metadata": {
    "collapsed": false,
    "ExecuteTime": {
     "end_time": "2023-07-01T19:15:09.356409100Z",
     "start_time": "2023-07-01T19:15:09.340901600Z"
    }
   }
  },
  {
   "cell_type": "code",
   "execution_count": null,
   "outputs": [],
   "source": [],
   "metadata": {
    "collapsed": false
   }
  },
  {
   "cell_type": "markdown",
   "source": [
    "# store dataset in to json file"
   ],
   "metadata": {
    "collapsed": false
   }
  },
  {
   "cell_type": "code",
   "execution_count": 12,
   "outputs": [
    {
     "data": {
      "text/plain": "Dataset({\n    features: ['text_id', 'Q0', 'image_id', 'rel'],\n    num_rows: 9873\n})"
     },
     "execution_count": 12,
     "metadata": {},
     "output_type": "execute_result"
    }
   ],
   "source": [
    "dataset_qrels['test']"
   ],
   "metadata": {
    "collapsed": false,
    "ExecuteTime": {
     "end_time": "2023-07-03T20:25:47.938646500Z",
     "start_time": "2023-07-03T20:25:47.928646400Z"
    }
   }
  },
  {
   "cell_type": "code",
   "execution_count": 8,
   "outputs": [
    {
     "data": {
      "text/plain": "{'text_id': 'projected-05734885-003',\n 'Q0': 'Q0',\n 'image_id': '9e7ffe42-f00a-3cff-b5dd-9e22709fe507',\n 'rel': 1}"
     },
     "execution_count": 8,
     "metadata": {},
     "output_type": "execute_result"
    }
   ],
   "source": [
    "dataset_qrels['test'][0]"
   ],
   "metadata": {
    "collapsed": false,
    "ExecuteTime": {
     "end_time": "2023-07-03T20:43:38.837054500Z",
     "start_time": "2023-07-03T20:43:38.802548200Z"
    }
   }
  },
  {
   "cell_type": "code",
   "execution_count": 5,
   "outputs": [],
   "source": [
    "def store_huggingface_dataset_into_json_file(dataset, dataset_name):\n",
    "    for split in dataset.keys():\n",
    "        dataset[split].to_json(f\"{dataset_name}_{split}.json\")"
   ],
   "metadata": {
    "collapsed": false,
    "ExecuteTime": {
     "end_time": "2023-07-03T20:31:16.304650200Z",
     "start_time": "2023-07-03T20:31:16.297651200Z"
    }
   }
  },
  {
   "cell_type": "code",
   "execution_count": 14,
   "outputs": [
    {
     "data": {
      "text/plain": "Creating json from Arrow format:   0%|          | 0/4402 [00:00<?, ?ba/s]",
      "application/vnd.jupyter.widget-view+json": {
       "version_major": 2,
       "version_minor": 0,
       "model_id": "b7db81f99e2847439f69a5ee116ed575"
      }
     },
     "metadata": {},
     "output_type": "display_data"
    },
    {
     "data": {
      "text/plain": "Creating json from Arrow format:   0%|          | 0/18 [00:00<?, ?ba/s]",
      "application/vnd.jupyter.widget-view+json": {
       "version_major": 2,
       "version_minor": 0,
       "model_id": "a0b37ae5edab49918f981f217708da4e"
      }
     },
     "metadata": {},
     "output_type": "display_data"
    },
    {
     "data": {
      "text/plain": "Creating json from Arrow format:   0%|          | 0/10 [00:00<?, ?ba/s]",
      "application/vnd.jupyter.widget-view+json": {
       "version_major": 2,
       "version_minor": 0,
       "model_id": "0eac78d9abfd4764952bd57d8dd138a1"
      }
     },
     "metadata": {},
     "output_type": "display_data"
    }
   ],
   "source": [
    "store_huggingface_dataset_into_json_file(dataset_qrels, \"Atomic_qrels\")"
   ],
   "metadata": {
    "collapsed": false,
    "ExecuteTime": {
     "end_time": "2023-07-03T20:28:48.566888600Z",
     "start_time": "2023-07-03T20:28:43.815767500Z"
    }
   }
  },
  {
   "cell_type": "code",
   "execution_count": null,
   "outputs": [
    {
     "data": {
      "text/plain": "Creating json from Arrow format:   0%|          | 0/10135 [00:00<?, ?ba/s]",
      "application/vnd.jupyter.widget-view+json": {
       "version_major": 2,
       "version_minor": 0,
       "model_id": "eadf97dc5c7f48259b2a407190dfee06"
      }
     },
     "metadata": {},
     "output_type": "display_data"
    }
   ],
   "source": [
    "store_huggingface_dataset_into_json_file(dataset_text, \"Atomic_text\")"
   ],
   "metadata": {
    "collapsed": false,
    "ExecuteTime": {
     "start_time": "2023-07-03T20:31:17.524739300Z"
    }
   }
  },
  {
   "cell_type": "markdown",
   "source": [
    "### Split the text dataset into train and test and validation as the image dataset"
   ],
   "metadata": {
    "collapsed": false
   }
  },
  {
   "cell_type": "markdown",
   "source": [],
   "metadata": {
    "collapsed": false
   }
  },
  {
   "cell_type": "code",
   "execution_count": 9,
   "outputs": [
    {
     "data": {
      "text/plain": "{'text_id': 'projected-20460173-000',\n 'page_url': 'https://en.wikipedia.org/wiki/Sayf%20al-Din%20Ghazi%20II',\n 'page_title': 'Sayf al-Din Ghazi II',\n 'section_title': 'Introduction',\n 'context_page_description': '',\n 'context_section_description': \"Sayf al-Din Ghazi (II) ibn Mawdud (; full name: Sayf al-Din Ghazi II ibn Mawdud ibn Zengi; died 1180) was a Zangid Emir of Mosul, the nephew of Nur ad-Din Zengi. \\n\\nHe became Emir of Mosul in 1170 after the death of his father Qutb ad-Din Mawdud. Saif had been chosen as the successor under the advice of eunuch ’Abd al-Masish, who wanted to keep the effective rule in lieu of the young emir; the disinherited son of Mawdud, Imad ad-Din Zengi II, fled to Aleppo at the court of Nur ad-Din. The latter, who was waiting for an excuse to annex Mosul, conquered Sinjar in September 1170 and besieged Mosul, which surrendered on 22 January 1171. After ousting al-Masish, he put Gümüshtekin, one of his officers, as governor, leaving Saif ud-Din nothing but the nominal title of emir. The latter also married the daughter of Nur ad-Din. \\n\\nAt Nur ad-Din's death (May 1174), Gümüshtekin went to Damascus to take control of his son and entitled himself of atabeg of Aleppo. Saif ud-Din rejected his tutorage and restored his independence. The nobles of Damascus, worried by Gümüshtekin's increasing power, offered Saif ud-Din their city, but he could not intervene since he was busy in retaking Mosul. Thenceforth Damascus was given to Saladin.\\n\\nSaladin took control of Biladu-Sham (Syria) but Saif ud-Din wanted to take over Aleppo, so he sent his brother Izz ad-Din Mas'ud at the head of an army to fight Saladin: they met in an area near Hama called Kron Hama (Arabic: قرون حماه) where Saif ud-Din was defeated. Later he prepared for another battle at Tell al-Sultan (Arabic: تل سلطان) near Aleppo, where he was also defeated; he went back to Mosul and sent messengers to Saladin offering his alliance, which was accepted.\\n\\nSaif ud-Din died from tuberculosis, and his brother Izz ad-Din Mas'ud succeeded him in 1180.\",\n 'media': [],\n 'hierachy': ['Introduction'],\n 'category': ['1180 deaths',\n  'Zengid emirs of Mosul',\n  'Muslims of the Crusades',\n  '12th-century deaths from tuberculosis',\n  'Year of birth unknown',\n  '12th-century monarchs in the Middle East',\n  'Tuberculosis deaths in Iraq'],\n 'source_id': 'wit-train-topic-003169358'}"
     },
     "execution_count": 9,
     "metadata": {},
     "output_type": "execute_result"
    }
   ],
   "source": [
    "dataset_text[\"train\"][0]"
   ],
   "metadata": {
    "collapsed": false,
    "ExecuteTime": {
     "end_time": "2023-07-03T20:52:47.891177800Z",
     "start_time": "2023-07-03T20:52:47.879182800Z"
    }
   }
  },
  {
   "cell_type": "code",
   "execution_count": 13,
   "outputs": [
    {
     "data": {
      "text/plain": "build split dict:   0%|          | 0/10134744 [00:00<?, ?it/s]",
      "application/vnd.jupyter.widget-view+json": {
       "version_major": 2,
       "version_minor": 0,
       "model_id": "994a3b68f68347bca78cc92ba87e7f3b"
      }
     },
     "metadata": {},
     "output_type": "display_data"
    },
    {
     "data": {
      "text/plain": "build split dict:   0%|          | 0/11019202 [00:00<?, ?it/s]",
      "application/vnd.jupyter.widget-view+json": {
       "version_major": 2,
       "version_minor": 0,
       "model_id": "204c8abffe034b37bf208551c71d8be9"
      }
     },
     "metadata": {},
     "output_type": "display_data"
    }
   ],
   "source": [
    "from tqdm.auto import tqdm\n",
    "from collections import defaultdict\n",
    "\n",
    "train_text_ids = set(dataset_qrels[\"train\"][\"text_id\"])\n",
    "validation_text_ids = set(dataset_qrels[\"validation\"][\"text_id\"])\n",
    "test_text_ids = set(dataset_qrels[\"test\"][\"text_id\"])\n",
    "\n",
    "train_image_ids = set(dataset_qrels[\"train\"][\"image_id\"])\n",
    "validation_image_ids = set(dataset_qrels[\"validation\"][\"image_id\"])\n",
    "test_image_ids = set(dataset_qrels[\"test\"][\"image_id\"])\n",
    "\n",
    "split_dict_texts = defaultdict(list)\n",
    "split_dict_images = defaultdict(list)\n",
    "\n",
    "for index, row in tqdm(\n",
    "        enumerate(dataset_text['train']['text_id']), total=len(dataset_text['train']), desc=\"build split dict\"\n",
    "):\n",
    "    if row in train_text_ids:\n",
    "        split_dict_texts[\"train\"].append(index)\n",
    "    elif row in validation_text_ids:\n",
    "        split_dict_texts[\"validation\"].append(index)\n",
    "    elif row in test_text_ids:\n",
    "        split_dict_texts[\"test\"].append(index)\n",
    "    else:\n",
    "        split_dict_texts[\"other\"].append(index)\n",
    "\n",
    "for index, row in tqdm(\n",
    "        enumerate(dataset_image['train']['image_id']), total=len(dataset_image['train']), desc=\"build split dict\"\n",
    "):\n",
    "    if row in train_image_ids:\n",
    "        split_dict_images[\"train\"].append(index)\n",
    "    elif row in validation_image_ids:\n",
    "        split_dict_images[\"validation\"].append(index)\n",
    "    elif row in test_image_ids:\n",
    "        split_dict_images[\"test\"].append(index)\n",
    "    else:\n",
    "        split_dict_images[\"other\"].append(index)\n",
    "\n"
   ],
   "metadata": {
    "collapsed": false,
    "ExecuteTime": {
     "end_time": "2023-07-03T21:04:50.101706300Z",
     "start_time": "2023-07-03T21:04:27.782728900Z"
    }
   }
  },
  {
   "cell_type": "code",
   "execution_count": 23,
   "outputs": [],
   "source": [
    "import json\n",
    "def dump_json_file(file_name, items):\n",
    "    with open(file_name, mode=\"w\", encoding=\"utf-8\") as writer:\n",
    "        for data in items:\n",
    "            writer.write(json.dumps(data, indent=None))\n",
    "            writer.write('\\n')\n",
    "    print(\"Write %s with %d items !\" % (file_name, len(items)))\n",
    "\n"
   ],
   "metadata": {
    "collapsed": false,
    "ExecuteTime": {
     "end_time": "2023-07-03T21:21:39.954570100Z",
     "start_time": "2023-07-03T21:21:39.940569900Z"
    }
   }
  },
  {
   "cell_type": "code",
   "execution_count": 16,
   "outputs": [
    {
     "data": {
      "text/plain": "dict_keys(['text_id', 'page_url', 'page_title', 'section_title', 'context_page_description', 'context_section_description', 'media', 'hierachy', 'category', 'source_id'])"
     },
     "execution_count": 16,
     "metadata": {},
     "output_type": "execute_result"
    }
   ],
   "source": [
    "dataset_text['train'][0].keys()"
   ],
   "metadata": {
    "collapsed": false,
    "ExecuteTime": {
     "end_time": "2023-07-03T21:07:01.483118500Z",
     "start_time": "2023-07-03T21:07:01.470117900Z"
    }
   }
  },
  {
   "cell_type": "code",
   "execution_count": 30,
   "outputs": [
    {
     "data": {
      "text/plain": "['1180 deaths',\n 'Zengid emirs of Mosul',\n 'Muslims of the Crusades',\n '12th-century deaths from tuberculosis',\n 'Year of birth unknown',\n '12th-century monarchs in the Middle East',\n 'Tuberculosis deaths in Iraq']"
     },
     "execution_count": 30,
     "metadata": {},
     "output_type": "execute_result"
    }
   ],
   "source": [
    "dataset_text['train'][0]['category']"
   ],
   "metadata": {
    "collapsed": false,
    "ExecuteTime": {
     "end_time": "2023-07-03T22:45:20.085203900Z",
     "start_time": "2023-07-03T22:45:20.074204Z"
    }
   }
  },
  {
   "cell_type": "code",
   "execution_count": 27,
   "outputs": [],
   "source": [
    "def rebuild_whole_data_and_store(dataset, split_dict, file_name):\n",
    "    for split in split_dict.keys():\n",
    "        whole_data = []\n",
    "        for index in tqdm(split_dict[split]):\n",
    "            whole_data.append(dataset['train'][index])\n",
    "        dump_json_file(f\"{file_name}_{split}.json\", whole_data)"
   ],
   "metadata": {
    "collapsed": false,
    "ExecuteTime": {
     "end_time": "2023-07-03T22:05:38.474074300Z",
     "start_time": "2023-07-03T22:05:38.461563400Z"
    }
   }
  },
  {
   "cell_type": "code",
   "execution_count": 22,
   "outputs": [
    {
     "data": {
      "text/plain": "  0%|          | 0/3002458 [00:00<?, ?it/s]",
      "application/vnd.jupyter.widget-view+json": {
       "version_major": 2,
       "version_minor": 0,
       "model_id": "aea7e5d5c3c444e59ebf08199c51129b"
      }
     },
     "metadata": {},
     "output_type": "display_data"
    },
    {
     "data": {
      "text/plain": "  0%|          | 0/7105240 [00:00<?, ?it/s]",
      "application/vnd.jupyter.widget-view+json": {
       "version_major": 2,
       "version_minor": 0,
       "model_id": "9730d1478fa04ff9979922ae08caf7c0"
      }
     },
     "metadata": {},
     "output_type": "display_data"
    },
    {
     "ename": "KeyError",
     "evalue": "'other'",
     "output_type": "error",
     "traceback": [
      "\u001B[1;31m---------------------------------------------------------------------------\u001B[0m",
      "\u001B[1;31mKeyError\u001B[0m                                  Traceback (most recent call last)",
      "Cell \u001B[1;32mIn[22], line 4\u001B[0m\n\u001B[0;32m      2\u001B[0m whole_data \u001B[38;5;241m=\u001B[39m []\n\u001B[0;32m      3\u001B[0m \u001B[38;5;28;01mfor\u001B[39;00m index \u001B[38;5;129;01min\u001B[39;00m tqdm(split_dict_texts[split]):\n\u001B[1;32m----> 4\u001B[0m     whole_data\u001B[38;5;241m.\u001B[39mappend(\u001B[43mdataset_text\u001B[49m\u001B[43m[\u001B[49m\u001B[43msplit\u001B[49m\u001B[43m]\u001B[49m[index])\n\u001B[0;32m      5\u001B[0m dump_json_file(\u001B[38;5;124mf\u001B[39m\u001B[38;5;124m\"\u001B[39m\u001B[38;5;124mAtomic_text_\u001B[39m\u001B[38;5;132;01m{\u001B[39;00msplit\u001B[38;5;132;01m}\u001B[39;00m\u001B[38;5;124m.json\u001B[39m\u001B[38;5;124m\"\u001B[39m, whole_data)\n",
      "File \u001B[1;32mF:\\working\\AToMiC\\venv\\lib\\site-packages\\datasets\\dataset_dict.py:57\u001B[0m, in \u001B[0;36mDatasetDict.__getitem__\u001B[1;34m(self, k)\u001B[0m\n\u001B[0;32m     55\u001B[0m \u001B[38;5;28;01mdef\u001B[39;00m \u001B[38;5;21m__getitem__\u001B[39m(\u001B[38;5;28mself\u001B[39m, k) \u001B[38;5;241m-\u001B[39m\u001B[38;5;241m>\u001B[39m Dataset:\n\u001B[0;32m     56\u001B[0m     \u001B[38;5;28;01mif\u001B[39;00m \u001B[38;5;28misinstance\u001B[39m(k, (\u001B[38;5;28mstr\u001B[39m, NamedSplit)) \u001B[38;5;129;01mor\u001B[39;00m \u001B[38;5;28mlen\u001B[39m(\u001B[38;5;28mself\u001B[39m) \u001B[38;5;241m==\u001B[39m \u001B[38;5;241m0\u001B[39m:\n\u001B[1;32m---> 57\u001B[0m         \u001B[38;5;28;01mreturn\u001B[39;00m \u001B[38;5;28;43msuper\u001B[39;49m\u001B[43m(\u001B[49m\u001B[43m)\u001B[49m\u001B[38;5;241;43m.\u001B[39;49m\u001B[38;5;21;43m__getitem__\u001B[39;49m\u001B[43m(\u001B[49m\u001B[43mk\u001B[49m\u001B[43m)\u001B[49m\n\u001B[0;32m     58\u001B[0m     \u001B[38;5;28;01melse\u001B[39;00m:\n\u001B[0;32m     59\u001B[0m         available_suggested_splits \u001B[38;5;241m=\u001B[39m [\n\u001B[0;32m     60\u001B[0m             split \u001B[38;5;28;01mfor\u001B[39;00m split \u001B[38;5;129;01min\u001B[39;00m (Split\u001B[38;5;241m.\u001B[39mTRAIN, Split\u001B[38;5;241m.\u001B[39mTEST, Split\u001B[38;5;241m.\u001B[39mVALIDATION) \u001B[38;5;28;01mif\u001B[39;00m split \u001B[38;5;129;01min\u001B[39;00m \u001B[38;5;28mself\u001B[39m\n\u001B[0;32m     61\u001B[0m         ]\n",
      "\u001B[1;31mKeyError\u001B[0m: 'other'"
     ]
    }
   ],
   "source": [
    "\n",
    "for split in split_dict_texts.keys():\n",
    "    whole_data = []\n",
    "    for index in tqdm(split_dict_texts[split]):\n",
    "        whole_data.append(dataset_text['train'][index])\n",
    "    dump_json_file(f\"Atomic_text_{split}.json\", whole_data)"
   ],
   "metadata": {
    "collapsed": false,
    "ExecuteTime": {
     "end_time": "2023-07-03T21:20:39.026897400Z",
     "start_time": "2023-07-03T21:17:04.029765Z"
    }
   }
  },
  {
   "cell_type": "code",
   "execution_count": null,
   "outputs": [
    {
     "data": {
      "text/plain": "  0%|          | 0/3002458 [00:00<?, ?it/s]",
      "application/vnd.jupyter.widget-view+json": {
       "version_major": 2,
       "version_minor": 0,
       "model_id": "ea629ae95d0a4321b6b55745922cd0a0"
      }
     },
     "metadata": {},
     "output_type": "display_data"
    }
   ],
   "source": [
    "rebuild_whole_data_and_store(dataset_text, split_dict_texts, \"Atomic_text\")"
   ],
   "metadata": {
    "collapsed": false,
    "ExecuteTime": {
     "start_time": "2023-07-03T22:05:47.929928200Z"
    }
   }
  },
  {
   "cell_type": "code",
   "execution_count": 26,
   "outputs": [
    {
     "name": "stdout",
     "output_type": "stream",
     "text": [
      "Write Atomic_image_train_index.json with 3386183 items !\n",
      "Write Atomic_image_validation_index.json with 16131 items !\n",
      "Write Atomic_image_test_index.json with 8605 items !\n"
     ]
    }
   ],
   "source": [
    "dump_json_file(\"Atomic_image_train_index.json\", split_dict_images[\"train\"])\n",
    "dump_json_file(\"Atomic_image_validation_index.json\", split_dict_images[\"validation\"])\n",
    "dump_json_file(\"Atomic_image_test_index.json\", split_dict_images[\"test\"])"
   ],
   "metadata": {
    "collapsed": false,
    "ExecuteTime": {
     "end_time": "2023-07-03T22:00:46.422175300Z",
     "start_time": "2023-07-03T22:00:43.477310300Z"
    }
   }
  },
  {
   "cell_type": "code",
   "execution_count": null,
   "outputs": [],
   "source": [],
   "metadata": {
    "collapsed": false
   }
  },
  {
   "cell_type": "code",
   "execution_count": null,
   "outputs": [],
   "source": [],
   "metadata": {
    "collapsed": false
   }
  },
  {
   "cell_type": "code",
   "execution_count": 4,
   "outputs": [
    {
     "ename": "ValueError",
     "evalue": "Trailing data",
     "output_type": "error",
     "traceback": [
      "\u001B[1;31m---------------------------------------------------------------------------\u001B[0m",
      "\u001B[1;31mValueError\u001B[0m                                Traceback (most recent call last)",
      "Cell \u001B[1;32mIn[4], line 2\u001B[0m\n\u001B[0;32m      1\u001B[0m \u001B[38;5;28;01mimport\u001B[39;00m \u001B[38;5;21;01mpandas\u001B[39;00m \u001B[38;5;28;01mas\u001B[39;00m \u001B[38;5;21;01mpd\u001B[39;00m\n\u001B[1;32m----> 2\u001B[0m df \u001B[38;5;241m=\u001B[39m \u001B[43mpd\u001B[49m\u001B[38;5;241;43m.\u001B[39;49m\u001B[43mread_json\u001B[49m\u001B[43m(\u001B[49m\u001B[38;5;124;43m\"\u001B[39;49m\u001B[38;5;124;43m../datasets/ATOMIC/Atomic_text_tokenized_test.json\u001B[39;49m\u001B[38;5;124;43m\"\u001B[39;49m\u001B[43m)\u001B[49m\n",
      "File \u001B[1;32mF:\\working\\beit3\\venv\\lib\\site-packages\\pandas\\io\\json\\_json.py:784\u001B[0m, in \u001B[0;36mread_json\u001B[1;34m(path_or_buf, orient, typ, dtype, convert_axes, convert_dates, keep_default_dates, precise_float, date_unit, encoding, encoding_errors, lines, chunksize, compression, nrows, storage_options, dtype_backend, engine)\u001B[0m\n\u001B[0;32m    782\u001B[0m     \u001B[38;5;28;01mreturn\u001B[39;00m json_reader\n\u001B[0;32m    783\u001B[0m \u001B[38;5;28;01melse\u001B[39;00m:\n\u001B[1;32m--> 784\u001B[0m     \u001B[38;5;28;01mreturn\u001B[39;00m \u001B[43mjson_reader\u001B[49m\u001B[38;5;241;43m.\u001B[39;49m\u001B[43mread\u001B[49m\u001B[43m(\u001B[49m\u001B[43m)\u001B[49m\n",
      "File \u001B[1;32mF:\\working\\beit3\\venv\\lib\\site-packages\\pandas\\io\\json\\_json.py:975\u001B[0m, in \u001B[0;36mJsonReader.read\u001B[1;34m(self)\u001B[0m\n\u001B[0;32m    973\u001B[0m         obj \u001B[38;5;241m=\u001B[39m \u001B[38;5;28mself\u001B[39m\u001B[38;5;241m.\u001B[39m_get_object_parser(\u001B[38;5;28mself\u001B[39m\u001B[38;5;241m.\u001B[39m_combine_lines(data_lines))\n\u001B[0;32m    974\u001B[0m \u001B[38;5;28;01melse\u001B[39;00m:\n\u001B[1;32m--> 975\u001B[0m     obj \u001B[38;5;241m=\u001B[39m \u001B[38;5;28;43mself\u001B[39;49m\u001B[38;5;241;43m.\u001B[39;49m\u001B[43m_get_object_parser\u001B[49m\u001B[43m(\u001B[49m\u001B[38;5;28;43mself\u001B[39;49m\u001B[38;5;241;43m.\u001B[39;49m\u001B[43mdata\u001B[49m\u001B[43m)\u001B[49m\n\u001B[0;32m    976\u001B[0m \u001B[38;5;28;01mif\u001B[39;00m \u001B[38;5;28mself\u001B[39m\u001B[38;5;241m.\u001B[39mdtype_backend \u001B[38;5;129;01mis\u001B[39;00m \u001B[38;5;129;01mnot\u001B[39;00m lib\u001B[38;5;241m.\u001B[39mno_default:\n\u001B[0;32m    977\u001B[0m     \u001B[38;5;28;01mreturn\u001B[39;00m obj\u001B[38;5;241m.\u001B[39mconvert_dtypes(\n\u001B[0;32m    978\u001B[0m         infer_objects\u001B[38;5;241m=\u001B[39m\u001B[38;5;28;01mFalse\u001B[39;00m, dtype_backend\u001B[38;5;241m=\u001B[39m\u001B[38;5;28mself\u001B[39m\u001B[38;5;241m.\u001B[39mdtype_backend\n\u001B[0;32m    979\u001B[0m     )\n",
      "File \u001B[1;32mF:\\working\\beit3\\venv\\lib\\site-packages\\pandas\\io\\json\\_json.py:1001\u001B[0m, in \u001B[0;36mJsonReader._get_object_parser\u001B[1;34m(self, json)\u001B[0m\n\u001B[0;32m    999\u001B[0m obj \u001B[38;5;241m=\u001B[39m \u001B[38;5;28;01mNone\u001B[39;00m\n\u001B[0;32m   1000\u001B[0m \u001B[38;5;28;01mif\u001B[39;00m typ \u001B[38;5;241m==\u001B[39m \u001B[38;5;124m\"\u001B[39m\u001B[38;5;124mframe\u001B[39m\u001B[38;5;124m\"\u001B[39m:\n\u001B[1;32m-> 1001\u001B[0m     obj \u001B[38;5;241m=\u001B[39m \u001B[43mFrameParser\u001B[49m\u001B[43m(\u001B[49m\u001B[43mjson\u001B[49m\u001B[43m,\u001B[49m\u001B[43m \u001B[49m\u001B[38;5;241;43m*\u001B[39;49m\u001B[38;5;241;43m*\u001B[39;49m\u001B[43mkwargs\u001B[49m\u001B[43m)\u001B[49m\u001B[38;5;241;43m.\u001B[39;49m\u001B[43mparse\u001B[49m\u001B[43m(\u001B[49m\u001B[43m)\u001B[49m\n\u001B[0;32m   1003\u001B[0m \u001B[38;5;28;01mif\u001B[39;00m typ \u001B[38;5;241m==\u001B[39m \u001B[38;5;124m\"\u001B[39m\u001B[38;5;124mseries\u001B[39m\u001B[38;5;124m\"\u001B[39m \u001B[38;5;129;01mor\u001B[39;00m obj \u001B[38;5;129;01mis\u001B[39;00m \u001B[38;5;28;01mNone\u001B[39;00m:\n\u001B[0;32m   1004\u001B[0m     \u001B[38;5;28;01mif\u001B[39;00m \u001B[38;5;129;01mnot\u001B[39;00m \u001B[38;5;28misinstance\u001B[39m(dtype, \u001B[38;5;28mbool\u001B[39m):\n",
      "File \u001B[1;32mF:\\working\\beit3\\venv\\lib\\site-packages\\pandas\\io\\json\\_json.py:1134\u001B[0m, in \u001B[0;36mParser.parse\u001B[1;34m(self)\u001B[0m\n\u001B[0;32m   1133\u001B[0m \u001B[38;5;28;01mdef\u001B[39;00m \u001B[38;5;21mparse\u001B[39m(\u001B[38;5;28mself\u001B[39m):\n\u001B[1;32m-> 1134\u001B[0m     \u001B[38;5;28;43mself\u001B[39;49m\u001B[38;5;241;43m.\u001B[39;49m\u001B[43m_parse\u001B[49m\u001B[43m(\u001B[49m\u001B[43m)\u001B[49m\n\u001B[0;32m   1136\u001B[0m     \u001B[38;5;28;01mif\u001B[39;00m \u001B[38;5;28mself\u001B[39m\u001B[38;5;241m.\u001B[39mobj \u001B[38;5;129;01mis\u001B[39;00m \u001B[38;5;28;01mNone\u001B[39;00m:\n\u001B[0;32m   1137\u001B[0m         \u001B[38;5;28;01mreturn\u001B[39;00m \u001B[38;5;28;01mNone\u001B[39;00m\n",
      "File \u001B[1;32mF:\\working\\beit3\\venv\\lib\\site-packages\\pandas\\io\\json\\_json.py:1320\u001B[0m, in \u001B[0;36mFrameParser._parse\u001B[1;34m(self)\u001B[0m\n\u001B[0;32m   1316\u001B[0m orient \u001B[38;5;241m=\u001B[39m \u001B[38;5;28mself\u001B[39m\u001B[38;5;241m.\u001B[39morient\n\u001B[0;32m   1318\u001B[0m \u001B[38;5;28;01mif\u001B[39;00m orient \u001B[38;5;241m==\u001B[39m \u001B[38;5;124m\"\u001B[39m\u001B[38;5;124mcolumns\u001B[39m\u001B[38;5;124m\"\u001B[39m:\n\u001B[0;32m   1319\u001B[0m     \u001B[38;5;28mself\u001B[39m\u001B[38;5;241m.\u001B[39mobj \u001B[38;5;241m=\u001B[39m DataFrame(\n\u001B[1;32m-> 1320\u001B[0m         \u001B[43mloads\u001B[49m\u001B[43m(\u001B[49m\u001B[43mjson\u001B[49m\u001B[43m,\u001B[49m\u001B[43m \u001B[49m\u001B[43mprecise_float\u001B[49m\u001B[38;5;241;43m=\u001B[39;49m\u001B[38;5;28;43mself\u001B[39;49m\u001B[38;5;241;43m.\u001B[39;49m\u001B[43mprecise_float\u001B[49m\u001B[43m)\u001B[49m, dtype\u001B[38;5;241m=\u001B[39m\u001B[38;5;28;01mNone\u001B[39;00m\n\u001B[0;32m   1321\u001B[0m     )\n\u001B[0;32m   1322\u001B[0m \u001B[38;5;28;01melif\u001B[39;00m orient \u001B[38;5;241m==\u001B[39m \u001B[38;5;124m\"\u001B[39m\u001B[38;5;124msplit\u001B[39m\u001B[38;5;124m\"\u001B[39m:\n\u001B[0;32m   1323\u001B[0m     decoded \u001B[38;5;241m=\u001B[39m {\n\u001B[0;32m   1324\u001B[0m         \u001B[38;5;28mstr\u001B[39m(k): v\n\u001B[0;32m   1325\u001B[0m         \u001B[38;5;28;01mfor\u001B[39;00m k, v \u001B[38;5;129;01min\u001B[39;00m loads(json, precise_float\u001B[38;5;241m=\u001B[39m\u001B[38;5;28mself\u001B[39m\u001B[38;5;241m.\u001B[39mprecise_float)\u001B[38;5;241m.\u001B[39mitems()\n\u001B[0;32m   1326\u001B[0m     }\n",
      "\u001B[1;31mValueError\u001B[0m: Trailing data"
     ]
    }
   ],
   "source": [
    "import pandas as pd"
   ],
   "metadata": {
    "collapsed": false,
    "ExecuteTime": {
     "end_time": "2023-07-15T20:07:23.532980600Z",
     "start_time": "2023-07-15T20:07:23.374456400Z"
    }
   }
  },
  {
   "cell_type": "code",
   "execution_count": null,
   "outputs": [],
   "source": [],
   "metadata": {
    "collapsed": false
   }
  },
  {
   "cell_type": "code",
   "execution_count": 9,
   "outputs": [
    {
     "data": {
      "text/plain": "{'image_url': 'https://upload.wikimedia.org/wikipedia/af/0/04/Kentestof.jpg',\n 'image_id': '86cd9811-1f16-3293-9a70-930bf4e53fa7',\n 'language': ['af'],\n 'caption_reference_description': ['Kentestof, die tradisionele materiaal wat deur Asjanti-koninklikes gedra is.'],\n 'caption_alt_text_description': [''],\n 'caption_attribution_description': ['Kentestof, wat deur die Asjanti-koninklikes gedra is.'],\n 'image': <PIL.WebPImagePlugin.WebPImageFile image mode=RGB size=256x384>}"
     },
     "execution_count": 9,
     "metadata": {},
     "output_type": "execute_result"
    }
   ],
   "source": [
    "dataset_image[0]"
   ],
   "metadata": {
    "collapsed": false,
    "ExecuteTime": {
     "end_time": "2023-07-15T20:13:57.131834200Z",
     "start_time": "2023-07-15T20:13:57.044323400Z"
    }
   }
  },
  {
   "cell_type": "markdown",
   "source": [
    "# Store image into npy file"
   ],
   "metadata": {
    "collapsed": false
   }
  },
  {
   "cell_type": "code",
   "execution_count": 25,
   "outputs": [],
   "source": [
    "train_image_ids = set(dataset_qrels[\"train\"][\"image_id\"])\n",
    "validation_image_ids = set(dataset_qrels[\"validation\"][\"image_id\"])\n",
    "test_image_ids = set(dataset_qrels[\"test\"][\"image_id\"])\n"
   ],
   "metadata": {
    "collapsed": false,
    "ExecuteTime": {
     "end_time": "2023-07-16T09:01:34.663054900Z",
     "start_time": "2023-07-16T09:01:30.712336300Z"
    }
   }
  },
  {
   "cell_type": "code",
   "execution_count": 6,
   "outputs": [
    {
     "data": {
      "text/plain": "  0%|          | 0/11019202 [00:00<?, ?it/s]",
      "application/vnd.jupyter.widget-view+json": {
       "version_major": 2,
       "version_minor": 0,
       "model_id": "6a064d583ac64d5f9aca470e442be814"
      }
     },
     "metadata": {},
     "output_type": "display_data"
    }
   ],
   "source": [
    "from tqdm.notebook import tqdm\n",
    "imgid2pos = {}\n",
    "for pos, _id in tqdm(enumerate(dataset_image['image_id']), total=len(dataset_image['image_id'])):\n",
    "    imgid2pos[_id] = pos"
   ],
   "metadata": {
    "collapsed": false,
    "ExecuteTime": {
     "end_time": "2023-07-15T22:28:23.595708Z",
     "start_time": "2023-07-15T22:28:07.623292400Z"
    }
   }
  },
  {
   "cell_type": "code",
   "execution_count": null,
   "outputs": [
    {
     "data": {
      "text/plain": "  0%|          | 0/3386183 [00:00<?, ?it/s]",
      "application/vnd.jupyter.widget-view+json": {
       "version_major": 2,
       "version_minor": 0,
       "model_id": "2d6f875ed2fd40b2a512009ea99104eb"
      }
     },
     "metadata": {},
     "output_type": "display_data"
    }
   ],
   "source": [
    "import numpy as np\n",
    "\n",
    "for ids in tqdm(train_image_ids):\n",
    "    np.save(f\"\\\\\\\\longkukunas\\\\PhD data\\\\datasets\\\\ATOMIC\\\\images\\\\train\\\\{ids}.npy\", dataset_image[imgid2pos[ids]]['image'])\n",
    "\n",
    "for ids in  tqdm(validation_image_ids):\n",
    "    np.save(f\"\\\\\\\\longkukunas\\\\PhD data\\\\datasets\\\\ATOMIC\\\\images\\\\validation\\\\{ids}.npy\", dataset_image[imgid2pos[ids]]['image'])\n",
    "\n",
    "for ids in  tqdm(test_image_ids):\n",
    "    np.save(f\"\\\\\\\\longkukunas\\\\PhD data\\\\datasets\\\\ATOMIC\\\\images\\\\test\\\\{ids}.npy\", dataset_image[imgid2pos[ids]]['image'])\n"
   ],
   "metadata": {
    "collapsed": false,
    "is_executing": true,
    "ExecuteTime": {
     "start_time": "2023-07-15T22:33:24.528283400Z"
    }
   }
  },
  {
   "cell_type": "code",
   "execution_count": null,
   "outputs": [],
   "source": [],
   "metadata": {
    "collapsed": false
   }
  },
  {
   "cell_type": "code",
   "execution_count": 23,
   "outputs": [],
   "source": [
    "for i in tqdm(range(10)):\n",
    "    pass"
   ],
   "metadata": {
    "collapsed": false
   }
  },
  {
   "cell_type": "code",
   "execution_count": 10,
   "outputs": [
    {
     "data": {
      "text/plain": "8605"
     },
     "execution_count": 10,
     "metadata": {},
     "output_type": "execute_result"
    }
   ],
   "source": [
    "len(test_image_ids)"
   ],
   "metadata": {
    "collapsed": false,
    "ExecuteTime": {
     "end_time": "2023-07-16T07:42:53.532669100Z",
     "start_time": "2023-07-16T07:42:53.528669400Z"
    }
   }
  },
  {
   "cell_type": "code",
   "execution_count": 12,
   "outputs": [
    {
     "ename": "TypeError",
     "evalue": "dumps() takes 1 positional argument but 2 were given",
     "output_type": "error",
     "traceback": [
      "\u001B[1;31m---------------------------------------------------------------------------\u001B[0m",
      "\u001B[1;31mTypeError\u001B[0m                                 Traceback (most recent call last)",
      "Cell \u001B[1;32mIn[12], line 2\u001B[0m\n\u001B[0;32m      1\u001B[0m \u001B[38;5;28;01mimport\u001B[39;00m \u001B[38;5;21;01mjson\u001B[39;00m\n\u001B[1;32m----> 2\u001B[0m \u001B[43mjson\u001B[49m\u001B[38;5;241;43m.\u001B[39;49m\u001B[43mdumps\u001B[49m\u001B[43m(\u001B[49m\u001B[38;5;124;43m'\u001B[39;49m\u001B[38;5;124;43mtrain_image_ids.json\u001B[39;49m\u001B[38;5;124;43m'\u001B[39;49m\u001B[43m,\u001B[49m\u001B[43m \u001B[49m\u001B[43mtrain_image_ids\u001B[49m\u001B[43m)\u001B[49m\n\u001B[0;32m      3\u001B[0m json\u001B[38;5;241m.\u001B[39mdumps(\u001B[38;5;124m'\u001B[39m\u001B[38;5;124mvalidation_image_ids.json\u001B[39m\u001B[38;5;124m'\u001B[39m, validation_image_ids)\n\u001B[0;32m      4\u001B[0m json\u001B[38;5;241m.\u001B[39mdumps(\u001B[38;5;124m'\u001B[39m\u001B[38;5;124mtest_image_ids.json\u001B[39m\u001B[38;5;124m'\u001B[39m, test_image_ids)\n",
      "\u001B[1;31mTypeError\u001B[0m: dumps() takes 1 positional argument but 2 were given"
     ]
    }
   ],
   "source": [
    "import json\n",
    "json.dumps('train_image_ids.json', train_image_ids)\n",
    "json.dumps('validation_image_ids.json', validation_image_ids)\n",
    "json.dumps('test_image_ids.json', test_image_ids)"
   ],
   "metadata": {
    "collapsed": false,
    "ExecuteTime": {
     "end_time": "2023-07-16T08:55:43.134879500Z",
     "start_time": "2023-07-16T08:55:43.111176Z"
    }
   }
  },
  {
   "cell_type": "code",
   "execution_count": 13,
   "outputs": [],
   "source": [
    "with open('train_image_ids.json', mode=\"w\", encoding=\"utf-8\") as writer:\n",
    "    json.dump(list(train_image_ids), writer)\n",
    "with open('validation_image_ids.json', mode=\"w\", encoding=\"utf-8\") as writer:\n",
    "    json.dump(list(validation_image_ids), writer)\n",
    "with open('test_image_ids.json', mode=\"w\", encoding=\"utf-8\") as writer:\n",
    "    json.dump(list(test_image_ids), writer)"
   ],
   "metadata": {
    "collapsed": false,
    "ExecuteTime": {
     "end_time": "2023-07-16T08:56:51.025903600Z",
     "start_time": "2023-07-16T08:56:49.629390700Z"
    }
   }
  },
  {
   "cell_type": "code",
   "execution_count": 14,
   "outputs": [],
   "source": [
    "with open('train_image_ids.json', mode=\"r\", encoding=\"utf-8\") as writer:\n",
    "    train_image_ids = json.load(writer)"
   ],
   "metadata": {
    "collapsed": false,
    "ExecuteTime": {
     "end_time": "2023-07-16T08:56:55.350203800Z",
     "start_time": "2023-07-16T08:56:55.031052Z"
    }
   }
  },
  {
   "cell_type": "code",
   "execution_count": 17,
   "outputs": [
    {
     "data": {
      "text/plain": "list"
     },
     "execution_count": 17,
     "metadata": {},
     "output_type": "execute_result"
    }
   ],
   "source": [
    "type(train_image_ids)"
   ],
   "metadata": {
    "collapsed": false,
    "ExecuteTime": {
     "end_time": "2023-07-16T08:57:30.758454Z",
     "start_time": "2023-07-16T08:57:30.728603700Z"
    }
   }
  },
  {
   "cell_type": "code",
   "execution_count": 18,
   "outputs": [
    {
     "data": {
      "text/plain": "['915aaf35-fb90-345c-8de9-ecd2db20930a',\n '7ac1bf00-f3d9-38e3-b590-8b6d39946f73',\n 'e07b6136-0cee-35e0-a93c-35dce9518c05',\n 'fe51a3cb-a829-322c-a667-786336902a38',\n '550417b7-1828-3bca-965f-11e176a3b969',\n 'dd95f488-5979-3133-bdcb-97043d65d6d9',\n '19dfae07-5e6a-3fed-b1b4-e6848eb9a0af',\n 'e3ca1041-6709-3884-942b-0050d873068d',\n 'ef9f74a3-6190-3f17-9df2-42f48ed219f8',\n '3506407a-8d52-3eac-a705-4067767ad4cf',\n 'e0033dce-ee90-36ca-843a-96078118b954',\n '3cbedca6-c892-37b2-b780-9536eb62fcd0',\n '43ae94ff-b602-351c-94ea-41b0f320e434',\n 'c9034fee-3f72-342a-8718-f4ba1bdaa042',\n 'd5718f18-8bdd-3c5f-9240-3f72d5a400c5',\n '78a43753-6b2c-3765-b778-a67f1cea1de4',\n '57e9f77c-27e7-3002-a404-b5e621d312ac',\n '8c5b13d3-fd08-3b3d-8027-9f16955550dc',\n '8f8cd926-bc83-33b2-af77-3e9a9807204c',\n '3d663e95-8a78-33fa-8932-c547faac196f',\n 'c7e6d48c-5731-37fc-8dd3-ac572bd5304f',\n '789125cc-accc-3c39-92d2-83c630b5e0fc',\n '690d22e9-f938-3736-8cee-68a27ed20b91',\n '19b70706-0dd1-3008-bdb3-a9c927697b1c',\n '94c33f27-0b7a-37b0-95c8-9d2c60423513',\n '4c11b68a-8205-3663-a6c6-88d7923a67d1',\n '1970a703-30c4-3b73-b3d4-7346f71f03c8',\n 'ee418b77-9362-30b7-bc68-b3102812ff9b',\n '519fb2e0-e009-3e3f-9e95-4460dd3cd335',\n 'dfd5a927-f289-31b6-9300-150a6c2e1a3f',\n '47e4512f-7097-3187-9c2b-1659fd74b762',\n 'e08b9818-9dcf-3286-85bb-7c528f8e9bf9',\n 'aa0aad9e-a1a6-356c-93d5-0838c17b0dab',\n '82b179cb-2d9c-3d2a-b687-be29faa3ca72',\n '1ddfa7f0-0c19-3bc8-868e-6c4d3113abd0',\n 'f34ce726-7d5d-34dc-85c2-0e07d9e8e779',\n '57eb6f16-c164-382f-8ee3-8194cf615548',\n '0d4c057a-506d-34c6-8db5-c51cf2f577f0',\n '41f06a1c-dc7f-3c26-bd1b-b839d46ab88a',\n '5f682883-a9b4-3cd2-b55d-3afb6dc7339f',\n '6d64375c-b0f7-3566-8e26-0d6075ff3779',\n 'f05c444d-b55a-3351-a586-3d795d2c1023',\n '61b2f599-d35d-34c8-a69c-f79266e4d932',\n 'f1e11631-c37c-3c44-b1b7-fb5d653abe74',\n 'b2f1a5bb-0741-32e6-83ce-91fa233a0a95',\n 'e7ea80e9-98db-3b48-837b-1ffab45de3bb',\n 'a799762d-16fe-3ea2-941f-eb4cd3135aed',\n 'e76b3e76-3528-316e-8d6f-704a0e898b2d',\n 'fcea2a44-c61f-32a0-835e-30ad5dafaa4c',\n '8a77469c-dd40-398d-9079-0cbfc4148008',\n '43a9abac-969b-31ad-a033-99e2e0449044',\n '90430f86-a474-3403-9df0-3183086f7d78',\n '8712c55f-a947-39b6-a140-47c0c12af927',\n '72608f7a-9369-3aa9-a259-3b23fb7e110d',\n 'd8aca6e2-f8ce-34a1-a4b4-cc94a4a34559',\n 'cc23eb52-94bc-3cb1-a680-c545aa8aec4b',\n '54fea20b-b377-32ad-bd6b-ab84f545737f',\n 'f4e7aa30-959f-3906-9712-4c9fdf99cb15',\n '7b7338fc-bc3b-3727-a593-6ecca9f559f2',\n '56c4689f-eb10-3b10-8830-1bf3e256e990',\n '48e35222-6a94-38cf-93ad-43e6d7fbe712',\n '468dfb6f-c44b-36e8-92e8-bdc788c95005',\n '40b7d7cf-469b-34cf-aa30-4363d6363854',\n 'ae470992-cecd-3144-b107-a97e0dbf9f96',\n 'd7cf3683-4961-30d7-bf5c-73baef07a295',\n '4dc6ca2a-c8ec-3408-a361-57756bf6a683',\n 'ee6c8eff-be54-3630-9129-79b7c8e0c306',\n 'f1fc0855-da78-3ac6-9861-13f4f984820f',\n '32529a30-d61f-3574-a6ef-d995dd59b744',\n '0715edcf-8f2f-391a-86af-35619f0e6833',\n '79ab813a-59f4-3381-8150-c905753ceefe',\n '35bfa5b9-f7a1-3fab-a784-86a1aa44b198',\n '5ac2e169-4081-363e-8428-823ab2b5453b',\n '4bf5cba7-eafa-320f-9906-2c8f16f5e23b',\n '992fa61e-2e1c-3cd3-88e1-14f5e370a5a6',\n '6387baec-01dd-3c92-995f-def6ee202316',\n '283ff4a7-3084-37ce-8350-da6457374ac1',\n '848fb8a8-b84e-30f5-a037-f233d3a40bb2',\n '494e91d6-acb4-3ae8-ac9d-83e493767e5a',\n '1a85146c-abe1-38e9-a4b3-d9f4acea0a5b',\n '474e707d-85f9-3b09-9b6d-8601bca57914',\n 'e0cb22c9-8640-3138-8475-61fa7d7ec7fb',\n '753a01a4-6a4e-3b43-9549-f780db1d624e',\n 'd34bbc90-0849-3045-ba26-4df3cb5d88ff',\n '92f2461a-d6a9-34be-b999-a65eb4890ac9',\n '52230f5e-0c76-3504-af4a-9a515ed6ebf5',\n 'b131a9ff-9ae5-3654-846d-134ed43eaa23',\n '0eb58bd9-da30-341c-abfc-cc0d8831e655',\n 'cac92613-94bc-3984-ad8d-a475ae8b6aac',\n 'e6dfb252-3b91-3520-8196-104571f2bc14',\n '4b73aa05-773b-330a-99c7-913fe3566ecc',\n 'a715ceae-3f01-37ca-909a-eee7cc727261',\n 'a1b5e577-cba6-3d3a-bdff-6b2392e512f0',\n 'f6b50018-de6b-3e40-b676-d9e907199d5f',\n '2c094305-2144-3e4c-bad6-a141637ead55',\n 'aae3560f-5465-361b-b63c-76dfe5cee601',\n 'c1d89b7a-b9b9-39ab-95a6-87665d470ac6',\n '2af2658b-b662-30ea-9972-a2b403bb4dde',\n '870c6978-919e-3f00-8e8b-52f04df4ce1e',\n 'fc4e2d4b-82d9-3c9b-93e8-6037720161a8',\n '9a4d787e-d2d3-34a3-a9d7-328ffd1dc08c',\n 'f35c8023-933f-3530-8ad4-bb70b33ec7cd',\n '50f754eb-518d-3a03-b2b6-4b05af47fcca',\n '9bfe8028-232c-37ef-b528-360bf2c44057',\n '8423b747-c902-386a-8d6a-14dd697ebbe3',\n '0120803d-127e-373e-bebd-3d71dfa8d526',\n '3a13ba82-0bf6-3fb3-b6a0-6db4f231a278',\n '4d0bd3f1-3d36-3789-ab42-b72543a36ff5',\n '4a80363f-0659-3d3f-85d1-f2bf4f630ca1',\n '0b5c2c55-091a-3e73-96ee-cd203e3f8c3e',\n 'cdd07ff7-ff30-367b-9106-c89a84aab5cd',\n '7d1e9598-2e35-382d-8916-37360df5e247',\n 'da89e7ba-0054-3d34-ad9b-430ef307565b',\n '0f78f5df-5fb7-312c-bb71-e798b85ee277',\n 'ea77ba5d-e180-35c8-90ae-9c4feed3397e',\n '60caac28-edc2-3d01-8348-7b2266d2b3b8',\n '58c46b70-79a5-3416-bf48-a82287adc5aa',\n '7b1f2ca7-8383-34d4-8be2-1ce6c35b4594',\n '5163712d-3605-3ad6-b61f-104d464ff506',\n '268f70f0-0c60-3ba0-a2d9-38fa5102a614',\n '9bc03f5a-fe2a-3421-8824-354943060f15',\n '6dab6436-0a7f-3ba6-9838-d13c2a187426',\n '1b7a53de-058d-36ac-8a90-c756fab3e058',\n 'a8a8df07-6670-3c0a-9bcc-a951657a5b00',\n '386870c2-ed4f-34a1-92df-175429437d5a',\n 'c7deee89-6eb7-304f-835b-3a13d36ac09e',\n '98b5cb22-ad36-3c61-be34-599da47ccdbf',\n '1c060dcb-48bb-3e3a-bf65-e3e98b35ced2',\n 'ecbd3f43-faf7-3ee3-87f4-3cfaae85487e',\n '5a5e4a4b-7b69-3cc9-a7e4-c50ec1f1c3f7',\n '7e33ff2b-11eb-373d-9498-25e335698852',\n 'dbb3da17-f426-36c6-b17c-57513c1111d6',\n '42143d2e-702d-3147-91c0-7ee7a3336e4e',\n '72d37d41-3326-3003-9bfa-2080512519b8',\n '182d02d7-6efa-3c9a-8929-ac0f4753fc0d',\n '0ee78cbf-8973-317c-9441-cd04337a94db',\n 'eaadc477-f862-3f9d-88d7-ccd91a20ee94',\n '6da0a58a-b2b8-37b4-b38d-a8beca31f01e',\n 'f9057510-fac8-34bf-a651-3b866a25c5d0',\n '05341fd4-e908-3697-9318-514801bc4a01',\n 'e3f512e4-55ca-3d9a-bfce-1b77eb7cc7f2',\n 'a2a4f70f-2626-3a8f-9937-126c7e414953',\n '3ae22287-52de-3ba0-8c7e-bc9f075f196b',\n '2884cef0-8a15-3cff-8b97-2774f6a4deee',\n 'dc034136-7d29-3c89-93cd-4fe17c231adb',\n 'c775b68a-e0fa-350f-86c4-1d26036a002b',\n '76b5c550-b85b-3f0f-97dc-be28a76731b2',\n '0d2df8c4-d070-3722-a0be-2397c64e6e4b',\n '695151b1-1f49-3745-a432-0793a565ee01',\n '7ec07a82-5061-3289-a896-3e4542d00f2e',\n '6b2f1c3c-6100-3900-b1a6-8fa0d2156022',\n 'a057d1b5-1879-3929-9eb3-c4e6f985c464',\n '7160efad-c59b-31a7-b899-29cc9e60d65d',\n '763091a0-e69c-33f0-85a9-7b7b8368bf6f',\n 'ccc0eb7f-feaa-36c3-924a-9b9bcae4ac0a',\n '2ad9f691-a7eb-39e3-a2ee-cf7b0d16db1e',\n 'ce01bba7-37a9-3296-b01d-e5abe904db16',\n '7be9805f-be54-377a-8460-dfbc0e62ebfa',\n '0e1d994f-68d0-3d9e-9e25-53e6cb0d88a1',\n '53a6099e-4ee2-371d-944c-be458064b4d2',\n '41526611-0e5d-32e3-bcf2-6b007e9623fc',\n 'ba188ef8-ab90-38f1-adaf-b27758121958',\n '2eb69bcb-df6c-32cd-a88c-e428a0b27c3f',\n 'a8fc9fe2-fc6e-352a-a240-8ec814200c20',\n '34bd15d7-b804-3cd6-b21f-2c7779dbc4d5',\n '3474c3ab-2d09-3f26-9c7b-bbbcb91d5a0d',\n 'c2f1008e-c54f-38fc-92bd-cd639d3f30c7',\n '78c2e21e-c634-3021-a76c-ed9431f288b0',\n '9e776cb7-f288-3920-8dcb-c02a50865fde',\n '460fa676-0057-3b16-b25b-f887d2184261',\n '32c85fd3-8979-3df5-a642-79d7243a5fcc',\n '4d8d3a44-2d6c-3d62-a649-e03de166884a',\n '3f4dd00b-e5e0-365e-baa9-0b349c9401f9',\n 'e3a19f01-70b2-397e-a1a5-cf34e3e03b6d',\n '28b1f39d-0f4f-39ce-b0c5-d78ae330a22e',\n '92c2d361-ad51-359d-b6df-2d9d2a823894',\n '652ba6d9-a4c3-3e14-a1e1-09d116bb13eb',\n 'eb48bfb5-cd18-31f0-bad2-0aa2c4e1a912',\n '44e61d3a-2e69-3eef-9419-1eb0e81dba23',\n '23900ddc-13d3-39a8-bce9-a44d8da67e96',\n '535f8a58-f52b-32ca-86ef-a50d7768d331',\n 'defa58df-34a9-30e0-b704-8403a6991bfe',\n 'c109dac3-abb3-3ddb-a82e-9bc699d0750f',\n '0af1da9b-8c95-302d-8f47-75affa696709',\n '799094f3-c9fc-36b6-91cb-ca3fa2fea6ec',\n 'a53da8b7-946f-3802-b1c8-b8aa29c11696',\n '6ae7fea6-8ea6-34a6-a1e1-9a22b291303e',\n '755b74b8-0372-35e8-b784-455da9dd3e5a',\n '8d625e8f-f93b-3d2c-aa78-ce1458f733d3',\n '73d34696-8b20-379f-ab4a-1bd77ad4d882',\n 'd6701ea2-c85e-3fa1-be13-622191deb8f3',\n 'fc3e9aae-5b52-3457-8a29-68a4f8cb4433',\n '90dcf14f-0d91-3f34-bc31-cb7705b9f7c6',\n 'ad96ff21-df45-349e-b469-eeb6150c9b57',\n '3f9b6611-f4bb-3c81-931e-461073c61694',\n '0ddb7ffe-3923-3a44-973e-2e5b3d5bed2c',\n 'bf90c5c2-add3-3d00-9c13-7c2a5345874e',\n 'f481b6ba-271e-34af-8989-a239a3729763',\n '8a012f5e-dbc9-3906-830b-d2d6e7d99704',\n '502d4ebe-d9f3-322e-9c86-60a00edc6bf4',\n 'e52f56fb-bf15-3c4d-97f7-7f367f667a62',\n '72accbed-73ca-3d79-ac1f-24197d4a96a7',\n 'cff3d5c1-4ba3-3389-b2e1-b574fee18c00',\n '44227620-d522-356b-91b3-7968a5f43498',\n 'fce113a3-acbf-3fb3-9b8d-70d89f9f9da2',\n 'a8186fb6-856d-390d-9d64-c1ba1a84a9b5',\n 'e4d88445-832a-3a31-a358-ae017735ec15',\n 'fcbb1da8-3f26-37d8-a291-822addf3ecab',\n 'a456d6f4-43ab-3904-b971-1ee61651ff39',\n '369083a1-03ae-3c7c-a339-33fdaa9c8c1e',\n '560d2aff-a090-3833-bf61-a8ff29ce5bcc',\n 'f4fd4cda-0476-3b04-a79e-a4a3deafd70c',\n 'f2fa22ed-f6b4-367b-9989-da5acbe4189f',\n '140e730f-37af-3561-971b-78fd86aa6c03',\n '24196c2d-e62d-3308-ac2b-e11d508b2b07',\n 'd249a01e-40ff-3f5a-9d07-0ff9eceb608f',\n 'f571651f-51c4-36c3-b47a-d6abb842ed42',\n '101f66f0-6c56-3104-abb5-15b67cbe4097',\n '287ec919-6704-32e9-b200-cca474be1dcc',\n '37720fba-a69f-3b9d-b0a0-0ac790538826',\n '8bc43a53-b069-33f2-aebe-668f44aa200c',\n '3532fa55-987a-3867-a51e-a75ba8a4971b',\n '6fe7b18d-4067-3e0f-9ce5-9d7acc19dd33',\n '7ccd45ee-8426-3433-b896-1e24c47fbda2',\n '6b75f686-aeaa-3f7c-a77b-936fe5ec75f7',\n '50d2843e-6990-3e6f-a283-99f216d48ace',\n 'b1c10c66-b015-3768-b889-f4cb5b4a7422',\n 'e60d5f2d-5752-3545-a5a9-89982cb3ee1a',\n '4d225505-165c-3c39-98c0-4eb95a9617da',\n '28bc4493-e166-3f84-97f7-b8965cd93271',\n 'bfc25638-322e-3ea4-8d07-b45af90953c5',\n '5c2738ed-1712-36af-b667-8fb375ac7cd7',\n '7d53985a-8aad-3f96-a0e8-487cf2da6daf',\n '0d29d594-4168-3ac6-aece-188c826be946',\n 'f8966416-961c-3447-bfdf-de417a8f6e64',\n '4860ab76-339f-3ff8-940f-f26f8de0dcaf',\n '61e5a48c-c4ab-3a82-91ce-633019a0ab71',\n 'e65c5e65-9618-3e10-b35e-a1156f8b2b0a',\n 'af68e472-27fd-3ed5-8ff3-2853e63ebb4b',\n 'd9177a02-379a-3b2d-86de-510f8e712637',\n '6584f4d9-e7fd-324e-8260-40a7fcfcc8df',\n '07b777fc-32f6-3ec3-b9fb-009570f484d8',\n '43697a19-c16f-3d31-902c-4c7e02efa08c',\n '221d4786-47b9-36ed-8efb-dc76c0645f4f',\n 'b853cd19-a473-3552-b874-bd3733d809ca',\n '03df9eef-de99-3777-b4db-44e41fb102cf',\n '4f9233d5-42a0-325e-903f-3fd706a50c88',\n 'b1553115-de8e-3bfd-9754-c42ac2c8f155',\n '5235f709-ceb2-3941-b7df-0678b818ab31',\n 'f00fc812-8e26-3435-86b0-bbcd6ee15b53',\n '171e2ca7-ad42-3745-8e71-a9d44a420279',\n 'b417c061-217e-3954-a66b-58a131984c80',\n '7dccebc0-4176-3f4c-97b8-5803f5477c5e',\n 'ae542548-6b75-3c1d-8cea-74484a9d2d6e',\n '0c46224b-4834-325d-aaf2-5af947ce3a3c',\n '378ce76d-7b73-3baa-a982-62da9c84a354',\n '609e5ff3-b50f-327e-a5d4-a5a226c9c72d',\n '8c092f4f-2dc4-3dc3-b3fc-22dad969e53d',\n '0715268c-42eb-36c7-8321-91e4c76d354a',\n 'b936adfa-5d53-3315-8de3-c5edfb40a692',\n '5100a48a-1a5a-3297-839f-1f221c429c05',\n 'd4d811b2-e6dd-3a39-95c4-8fa04fb673ea',\n 'ef2d20f7-1371-3027-bc8f-2b82d00f6471',\n 'fc4847ce-cd46-35b1-8551-4b2690a076ec',\n '4e2ca75c-3bcc-31a5-831d-651d61a88918',\n '2dcd0179-45b0-31d1-9b5d-f63a4319a47e',\n 'd573e7c3-fd65-3773-82e7-f116fb819e1c',\n 'f08e6179-d83c-34ee-b01b-a07586a14ca7',\n 'bb05b386-0ead-3b12-87dd-546ee25fd8c5',\n 'dc0dc6a5-c811-3d28-88e7-aeb4d66537fa',\n '04532d88-94fe-3f48-84e8-ed3155b978e6',\n '930afee1-640f-3471-910f-c2ebac0278fb',\n 'a0478cbe-8dae-3cf4-9b26-0115529d9472',\n '959483a6-06fd-33f8-be35-e75c05bf8018',\n 'fecc58ca-77b4-3f65-bb1f-29a6f95b7a45',\n '5199abc4-3830-3751-b212-be953b5b3008',\n '8cb6bf99-dd0a-3622-a55c-46eb58bba755',\n '8ab7373f-bf1b-3f61-8158-9aa046e012d4',\n '9687a023-fd08-3efe-9aea-a7a739b6cc5d',\n 'c3030c97-7fc0-3694-86e0-b77c2a9cf1a8',\n '64251f40-48b4-306a-a278-0ffed9271c5d',\n '97f67f6b-ad80-3fad-ba5b-3e2079973116',\n '5df13779-4d35-331c-bf34-1c189e0fd958',\n '78ed67b3-bb5e-3711-9c59-c08569f6129b',\n 'f84d2ed1-7187-335f-8d21-91edb822388a',\n '9c5be19b-fec5-3c9d-a540-0b8949f44ca7',\n '29c11d0b-4335-3dbd-b3ab-46ef3b11b3ad',\n 'e9de3665-cfda-34fa-be55-4b7463a64f94',\n 'f7714d98-9b83-3368-925a-ee2d6ea50c35',\n 'd2dc1273-7491-3c09-b7ec-933df42d5e3e',\n '4cd72f85-4818-3fbe-893e-f48bbd7ece0c',\n '6ef4f928-6c5b-34a5-ada9-df5aadb3c9cd',\n 'c6d622b4-da40-3dc7-ab4c-dc97a0057798',\n '7cdba2e5-3fd8-309e-9b42-70d5adc892cc',\n '641a9fc6-d873-3130-91c3-019563700d40',\n '80d85866-8298-37e2-914e-a12881822902',\n '26425be9-8d83-3752-8cfc-9a80c455034b',\n '1b4503de-01f1-312e-b0d0-d05b354894b1',\n 'da6e6c51-2399-32c7-857d-fea65576616d',\n '6cf186bb-9c12-39bd-8ce3-f440d7bf259a',\n 'ba144d42-7e05-3ca8-8298-d2e0df9db1de',\n 'c2f30937-3c45-3a61-ac84-6c6f38e0d32a',\n '3551cf72-1411-3cd8-a50e-a7b3938d0e44',\n '966e2902-4a2e-3720-a88d-fe78ea1777c3',\n 'acf05e7f-6933-38cc-b8e8-f3643b672fec',\n '0d615bf3-58c6-3aa1-8977-387e90e4dab7',\n 'a189f441-c79f-3d38-a375-6eafe26d6eef',\n '861caa0a-2af6-3966-97b3-2d127ffd44d8',\n '70972ac8-f89d-315b-8567-65064fa0b326',\n '10084d2d-a833-3008-9ea7-d40b1d4c9326',\n '1a579fe4-83b7-393e-8b8b-aa7aba4cbf8c',\n '3d16b954-085e-3b09-a40e-6441c54291bc',\n 'ea102f50-7606-3c43-ac83-a9e39c28ba85',\n '1bbbec8c-5fd0-3fcd-8eaa-9084e1ed3cde',\n 'd9153460-f63d-3d42-bf71-7d4d51b7db4b',\n 'f67d3647-b011-3e29-888d-7ddbfd27c1e1',\n 'adf6183f-4ba2-37b6-b740-88c58fd328eb',\n '4913482c-039c-38af-a0af-5ba73108c929',\n 'd0e09ac8-3b7f-359a-a623-0c59b356335d',\n '28d383ef-9ac6-3ca5-9d31-48c9864fc0c7',\n '397c9952-5361-3974-8ccb-264f5f8b3dea',\n '7c7290ff-ca6e-38d6-99e7-430802f00f56',\n 'b5d821eb-96a8-3569-929f-4fbd40ac6595',\n 'e42a1cfc-0964-3ddc-86b8-c2d48446a581',\n '3097280e-ed1d-32b3-9d5c-54078471c8df',\n '9c620487-ca5e-33b5-844e-82a52df3bed6',\n 'cbf0c520-6031-3442-b3c9-fb86ce746bff',\n '69cb7d31-a7b9-3570-90c8-4fd65e080532',\n '6120f11c-c9b2-3eb4-b511-ce22527fea64',\n '421caf41-e568-327d-810b-ebe870d88659',\n '7b8c3891-bf3f-3a98-81f6-180bf151133d',\n '8a0cbc46-090b-38ad-b762-bbfb523e3914',\n 'ca9a6b5c-0ce8-3c69-b285-4ff1fe44b0c5',\n 'd7be400f-afda-3dd5-beb9-c96461832453',\n 'f48653aa-851e-36fe-866b-5fd5b06fc228',\n '4787da65-699d-3e86-af34-eae888a83eab',\n '3ef88369-91b5-3b72-86cf-5dcd8d3636d7',\n '511f34e3-5041-3cea-8660-94e111e53682',\n '1f6879e3-125f-3724-a53f-6e3e8809d27d',\n '11f79532-bb33-36e6-a87b-be2786ef0a12',\n 'cc4a49d2-ea98-39f7-acec-b18a6350d98e',\n 'ffbbfed2-4058-36dc-aa0b-dfa8f2b24c90',\n '6e497ba9-efef-3ef7-8fd8-4c9456106c01',\n 'ecb0c72d-78ee-3ff3-82f8-4b25c1c0bb63',\n '7d44e3b7-8712-38bb-8aba-510f9decb65f',\n 'fd882ee2-575a-30d8-af9d-6c0f0435f548',\n '85501c5a-654b-3eca-b6d3-b7e2f18cf17b',\n '2ecc569d-7d22-3288-9d5f-2792b8f71619',\n 'a651a997-bbba-39aa-a16d-1f1ed2e6dfca',\n '6fe2c11a-ede0-30d0-bb0e-4a6d458d4edc',\n 'bb99867b-7800-3288-a408-9a73dab4a292',\n '3d69dfd5-b91b-3998-8d68-fc1e66e209fd',\n 'e13d4125-b6e4-3853-ba53-b5e65bb1ea7f',\n 'a714da82-537d-3b37-a0ac-04fed1b36edd',\n 'e10e916e-3cfb-3f80-ab87-7f8e743c399c',\n '0e780088-fc1a-38b0-b60d-dbd74fa99639',\n '7b4251f5-3977-35fa-8d41-2115d88ccc6f',\n '84fdce04-0f79-37f7-9f4b-91a8f895a950',\n '425f73cc-66e3-35c0-977a-15bd56281c37',\n '272bde2a-d4f8-393c-9167-a377e8461115',\n '5d313aa7-992c-3c5c-9169-05cdf66637bd',\n '53504540-0e03-3ca1-b572-c2ffd428556c',\n 'bec143bf-2f0f-3f31-9d45-7c7348a90b60',\n 'a8d25757-b21b-3136-86b0-8e6f24b43e87',\n '39f56009-c1c7-304a-ae8e-678676b9b091',\n '9116c169-0012-30e8-bc9c-9b1ff8c2081e',\n '39f11190-a033-3833-8683-bc603e1f2866',\n '3cf9f28a-3490-3977-9650-52e3a9952a90',\n '3c6b314d-1400-38c6-a125-97031b217489',\n 'b9bb5c60-35b7-3f74-95b9-291de8af0eb1',\n 'f294d4dc-6059-362f-9666-0ab76c792784',\n '496bf93e-a457-364c-be10-376c17e8d09a',\n '1fa82103-f27a-3719-8cac-0b48f07d34c3',\n 'fb6565aa-98f9-3c42-93c0-61e7dcd069bd',\n 'fe3519f5-77d8-34e5-a2f3-73f84f9bf40e',\n '68a88a0e-5d2b-3633-9ba1-5ea29c8c3a06',\n '2d7d52a0-6483-3924-91d1-2653cd799ab0',\n '557b1970-b1eb-389e-ad14-dddb3ddb7290',\n '315a129d-5a99-3678-820e-d5968fbfdbc5',\n '6db2bcda-6ec4-34a4-adf2-dc1d4beff0ae',\n '0b2737a8-60a7-3c5a-b1db-086d34c194d3',\n 'eb3a7f91-0231-36d2-88f6-1b505f21204b',\n '77f10a57-5e0b-30ca-8df3-36bf83f6d829',\n 'd4ed2caa-ff6d-3286-ba67-7f9e11285609',\n '8aeb8057-2a3a-39c5-a9ce-67033cea2971',\n '5132b2ce-1e9f-3317-8868-ea1553e7ed17',\n '11d3d41a-76d6-307f-83d2-977840b1e1aa',\n '3cff7426-a8a7-3cdc-8cc0-459956af31de',\n 'ffb3feec-1360-349a-9d82-2e665438fe4b',\n '985a19f0-b051-34ff-acbd-2c7d1a8f3471',\n '8b9b6f41-41e3-3118-9cb0-bdbce059b25e',\n '5a93bf9f-446e-3a78-8280-afb45a9ff753',\n 'c04dccc6-fc81-3415-8fc4-7446501b8633',\n '4f442c44-2154-3e7c-899d-6739e2a0e91a',\n '994fd1f4-a510-3826-b21e-789ab88257eb',\n '6a045880-535c-392a-a6c6-794594f3e38b',\n '838de59d-3fce-3a35-8752-0cfaab174b53',\n 'ab7f567e-c605-30db-8536-0cafa547c40a',\n 'd700e803-c109-3ff1-941b-bceeb1d9766e',\n '78fdfabf-0071-3455-a527-7e09fcba5b4e',\n 'f4084314-054b-3ef7-a096-e53245bb82b6',\n '01afc697-44fa-37b3-9978-2b903bf08ec6',\n '9c35e4b3-0310-3d0c-958c-5ec628978d03',\n 'e231e862-7905-3058-97da-27b13f432b4d',\n 'ca090e9b-193c-33df-b51f-1817aa93326a',\n 'a6e78cb1-5147-32ea-aa9a-4ffa287e10e3',\n 'ddd3dd5e-f8b4-3181-a98b-0ac85371b6f1',\n '2b6aa3db-58c2-38de-8cea-41f424398295',\n '89c12aa0-9b59-3892-bb34-f7d261d80990',\n 'a4a21e2f-2429-3a9e-b0cc-84d335ae7b50',\n 'ca328177-d40e-3e03-a951-518ec87c5b90',\n 'ac45f9b1-5188-3dbc-84c6-69b6a082e3c6',\n 'f8cba624-e1d0-31b3-9560-17f3a66a6acd',\n 'fa7a2ed7-1932-30bf-a92d-29a65f24734f',\n 'b7ec955f-ef16-32a9-ac2a-ad07da69e85f',\n '9fcc19c9-0c66-393c-9287-899efc8ade8d',\n '0f9b4a66-97da-3a23-bf31-1bbbd251e621',\n '0c1f2c4e-2f65-3b86-814c-b1aa039d7781',\n 'b1c663d2-872b-3627-8d26-97e431287ffd',\n 'd3166358-9d7f-3b9e-a2aa-d5c73a7790f3',\n '65dc1abf-1a8a-35ff-84be-8f628221b0c2',\n 'bcda5f6c-cef0-35bf-9c51-85bde73d38a9',\n '887ef6c6-d2a7-3b29-b213-e1806d582740',\n 'a9298c30-e6f5-374d-9d02-7daa52ea918f',\n 'dfb539e8-39ab-361c-9311-597b8a9e8f53',\n '4f269e68-8fe6-3125-b56b-5c6872652e82',\n '2f5371f8-d663-3353-b7d1-b87d1dc07d85',\n 'c3f4b82a-8308-3d2b-8a50-b2e3a2b87fab',\n 'af8afca4-46c0-34d0-9df1-8fa23d7b39a2',\n 'b294402c-f333-374d-b9c3-afa8b80eaf2b',\n 'bed7914a-5eb6-3e14-8025-6e25302a6c04',\n '40b5239a-b63a-34e8-9441-fcc5354cf0af',\n '1c9881ce-c2f7-33fa-a724-d3c4dbe91708',\n '60b35574-b918-3a06-85ac-86c45dabf640',\n '47e4c523-a86b-301c-a99c-91bdd5677b82',\n '6bf3d1fb-6ab1-3157-bed0-5edb2a16dfdd',\n 'ebeb568c-14df-3c30-80c6-abc1cdf65580',\n '824b85b6-ef53-3c4b-ad5b-52295a55becb',\n '66edcd91-36e4-3544-911a-c9de04238173',\n '1f4b4073-aea9-3674-b6f9-24409c9667f7',\n 'bcef9dec-45a5-310a-8aeb-6cfe1105315e',\n '6c0139a5-bb20-3764-9d85-4f4067f110a6',\n '23b064eb-fa5f-32d9-88bb-4029eec05f05',\n 'abc4cac8-e801-36db-ac81-909d1021411b',\n 'b5d1ac4d-baf0-3d6d-9a02-b31db452cb8e',\n '4f3f39c3-5a50-3373-bbf6-eacc1b360b0e',\n '73a9e028-735c-31f7-9153-ab8c6b26b0be',\n '92d92513-89f8-34d5-bd6f-78e57aa7004a',\n '892eb6fd-996f-37a4-abe5-1b5fce90f1e0',\n 'f30dec49-b460-3d13-b220-8e8fafe2d0cc',\n '83aa55ea-b6a0-3c6a-83de-6b75d33e6350',\n 'd40a6732-0a41-3f26-8280-dfb74644e7fa',\n '868c82bf-81a8-3ece-bb68-a312bc64987b',\n '75e8ea3e-0271-3af4-8c3a-18c1f167fb90',\n 'f335ddd7-40f8-3fa2-81ce-84884ae229ac',\n 'd71cc2b1-6601-3c0d-87d3-917de3430869',\n '287f8b70-3dac-3bd7-aaec-fa0a232113bc',\n '753edc69-3698-36ce-a2fe-b5797517d4ee',\n '47ecf097-76a9-3062-8508-a4a73b61d862',\n '228637c3-e20d-3c5c-bc9c-872148ac3937',\n '0096a444-fd20-305a-b198-b377a52b67c3',\n '8aac85ef-116c-3dfd-a007-bf978f6eb5e6',\n 'd0cd40a1-6fc9-3e05-a0ec-2d6bf40c1d4f',\n 'afecc682-5e40-33de-bc4b-76cc98d9b289',\n '3e474021-0d09-3efb-a908-89a9262a1f43',\n '21f45109-392d-37b2-aa4e-f3ae9e517031',\n '0fedc7ba-7d17-3aab-ab2f-a04a09c6c828',\n 'd133589a-c8f5-3eb9-a8df-99c0ad084986',\n 'dd6eb8df-144f-352a-aca8-89fbf784e8a2',\n '05cb3294-2098-39e9-8a10-532cf82b87ff',\n 'a818f576-6fe8-32ea-8974-a4f8eac55ca1',\n '36aaa858-54b9-38bc-b469-bbeb75e71ed3',\n 'fff80c83-b546-3ca6-a8d9-c1fb0d86f4b6',\n 'ef2d2a8a-0b41-34a6-ab6c-b3e5d27cebba',\n '6ce2f18e-00ac-30dd-bae3-0fb28c6e5bf8',\n '93dd4d1a-14e2-3d16-a27d-8954e8d434ab',\n 'f3b2a43a-2a5e-3a7d-9711-518b6a33c789',\n '00b4ee7e-bd00-3f30-bde2-9c5dd17b8c09',\n 'f0c555df-b9a9-3b26-817f-2950f450d7e5',\n 'b7eb3781-d8d2-3d97-89b9-35533da2e0fb',\n '607d66df-5966-3c4f-a7c3-e63b9f4963e7',\n 'd1239964-f688-3c0d-9ce0-68df3ec35983',\n '9aa3fc96-7b57-3bcd-a3c0-5bd050205315',\n 'c28d9a76-5095-3fff-a96f-a542fdfb68c6',\n 'b759c553-c563-3cfa-99b7-1681a0701ba6',\n '21b35410-e1bf-312b-8636-71f625b7047c',\n 'f82035ee-59ec-3a88-ad1d-45efc6e0bc98',\n '9646b55e-faf7-3f7e-9626-dbf524acafe7',\n 'db4e26f0-210d-36a5-9738-ca2a255765ba',\n '5e646826-592e-3599-a487-bc987aecd8a6',\n '0517524d-8dc1-3285-a1a8-0a8fdde0862e',\n '2d3ca7d5-97ea-3034-ad8a-667d412cd423',\n '654b6cc5-6fcd-3f96-bd05-1340ab4afc3e',\n '33b08fed-50fe-31bf-89fc-71959031698d',\n '7f91a501-7abf-3fb7-b36c-41faaa35defc',\n 'cc28bea3-3cd2-3c0e-b54d-077487a9d70b',\n '9f2244eb-e45f-3c7c-89b0-33247cf710f9',\n '6af06551-483e-3397-bb09-0ae1273dbaff',\n '713c9926-83cb-3078-85ca-bb330ac891c8',\n '114ae93a-bf36-3a9b-b5df-874c21f729da',\n 'c803353e-f29f-38ef-8a7d-29003518a31e',\n '1a43ddee-91e4-300f-a165-a2c0d61f379b',\n 'd5e04caa-7d8d-34ee-9241-9c529e78bda7',\n '39e69476-78b7-3092-9837-98a25bcf4229',\n '95e51b96-da01-38ca-8e6b-28722097ef41',\n '8cce5367-ae3d-304b-a86a-aa772d0d9317',\n '31ed046c-093f-3700-99a6-a488d99c2d34',\n 'afe114d1-178a-385b-908b-ea43bd984dbe',\n '952ff0bd-9ad9-3854-a142-f4fde9c19069',\n 'a4399aff-051b-3794-8a32-5c03bfc5c138',\n '7a8ed8df-fec7-3c2c-8c91-c4f20a8fecd8',\n '9a13ec5d-568e-3b33-9610-53f92af35230',\n 'd1beec67-d64c-31ea-8137-bb5e79e52d74',\n 'e84d4581-917a-35e2-b697-8e6a7f4d2658',\n '1c07d7c6-3bf3-3038-95b5-decf11aeb71a',\n 'd9170188-585a-383d-8538-39b4f8c3ae9f',\n '1799a2e4-c246-332b-9f0c-8dada492a980',\n 'ce099772-46ca-3f8b-9477-4e54635033c7',\n '8fa1edfe-ef34-38c6-a379-a50c2082b0db',\n '1b887701-6e49-3e7a-a182-b251e1062d95',\n '95b4a792-82bf-365a-adbc-c291644958d9',\n '4af7ac5b-9c43-360e-aedd-fa1a0729277c',\n '397be8e7-3494-3255-b91d-aa4307387ef3',\n '2ea9a989-2bcd-34b1-a55a-e03c25fcef76',\n '7df7d79f-139c-3941-a439-bf670abf40c6',\n '0ef843b4-82ff-3945-8763-7975d6d1556d',\n 'adbf5724-dc4f-3450-a200-766a9190f43d',\n '2ef68451-97aa-3c90-92cc-685e556e4422',\n 'a948bb71-c65b-3aac-85de-4a9b5bb76228',\n '0dc47156-2662-3feb-97cc-1cdfdb4d11b7',\n '24ba6168-66b5-3b61-91ec-a361dcd60c16',\n '1c90b580-9a43-37c2-8ea5-6b52d2b52618',\n '9cc8e899-9871-30d8-af15-3920f6f9c6ca',\n 'ca135386-ba77-3c22-ba6b-17fb88cfedfb',\n '3d8c99dc-ee00-3af1-97ac-2fe39e21873d',\n '3468e1b3-9336-3a01-9c4f-e6e2abb2bd8a',\n '2d93e6bd-88dd-3a46-8974-128da6270ec9',\n '90b5853d-00aa-3681-a18e-28cc4cf3ff4f',\n '6a9c15bd-6529-3c05-9e2f-9a0907d20985',\n 'c6e10a84-7db1-3822-b498-fa221d64625a',\n '1f49ed6c-5bf1-38bc-9533-687cbd7640d6',\n 'cc85a02c-175d-35dc-91a9-fea8469fa994',\n '0e38d7d2-c061-330e-b20d-015d64aec73a',\n 'a9e9e33a-de0d-336d-beea-f31b39a8c6cf',\n 'd9af3685-24e0-3eca-8d6f-09b0b43f62b0',\n '1cf540b3-9821-3c80-a52f-a56a4227fad9',\n '596e7909-617a-33a4-8511-5a538af4575f',\n '856c54f0-4d7f-3079-9f66-49c8814df85a',\n '343bb8ae-ae5e-3c08-980c-78467d9091e9',\n '7b7db65d-70fb-3208-a066-fda8aa84ca4e',\n '79da5549-2446-3dcc-8687-fea5e75d10fc',\n '7e848840-327f-31d6-b220-6400570f228a',\n '637e4d1b-cea6-391d-ad3f-a74163e32791',\n 'ce2a46ff-657c-3590-83d0-68543844ecd4',\n '4c1aea42-9cae-33d9-9c75-b1a6411974b8',\n '17e2fa40-60f3-38dd-ad30-481df0134f38',\n 'eda0f30e-fa7d-3dc9-b833-7b5140331379',\n '0ed564e6-6d69-3658-b697-0209b94c28d1',\n '78991aad-6256-3b76-b8da-fda99754fa74',\n 'bea5ed5e-9721-351e-bce4-646f5c07758f',\n '9b1c6fb1-e2cd-3330-8216-6b63545a05cd',\n '2a0dd262-eb21-3922-8c13-5d5afc6c6815',\n '17d303de-5d52-3dc0-b373-9f8148585f65',\n '533d0fc2-243c-323f-8211-6a224d23010a',\n 'b814b7ee-af67-3827-9699-4734c186ca8a',\n 'deea2c66-b426-3e2c-a384-b49cde00f62b',\n '1bb4639c-7e33-3d24-ad20-c87a98f04e02',\n '271ff16f-c551-34a3-b1fe-8a5e3fb14af4',\n '8474ea12-13b8-3579-a7dd-0c3625874b5a',\n 'bba6fcb3-35ee-34eb-b6a4-492749e259f8',\n '53e65d75-3cfc-3944-9117-e4ac614a93ce',\n 'c166e36a-9b41-398a-b0ef-387382f42618',\n 'febe380f-6f0e-314e-b0d0-aa243b112124',\n '711a56a2-96aa-35e0-bb04-6c1bb823fe83',\n '43c12824-3c64-3750-8da5-4a12e222f297',\n 'daff88c2-8086-318d-aea0-9f40618a0e5d',\n '87ef5765-0f7a-3c16-a59c-3725b116f0d3',\n '2ba4847f-793c-3ac3-a5e2-34824c645aa7',\n '44e74133-6e55-3aa4-bf9d-cbe9318fc6d8',\n '325c723d-1eb6-3d20-a05c-4a33c70d80f6',\n '5b83b15b-fc43-31eb-8580-0cfd658f5b62',\n 'c8da3bbb-bcc4-3169-8181-82f013e8f339',\n 'b8a277ba-1fbf-3ad6-81f1-18ec25857b9c',\n 'e6b47c7c-c74f-3bff-a700-fdce533b5b34',\n '8cfe06ed-f6f4-3287-aa71-3e4de359d54a',\n 'ada4bd6e-3309-3acb-b931-6019ed00673a',\n '5c4e478a-5dcf-3dd0-b54e-72c7562e1ff9',\n 'e0d386ed-0372-3f00-92f0-403a2cfe4c8c',\n '7047059a-86b4-38ed-8188-c19bb37f83db',\n 'ef70a333-0d74-3ed4-bc5d-b0c325d0dc1d',\n '186c36f6-6c0a-3199-b56c-6988ba106d54',\n 'c7a0b1a8-2ee8-3c86-9dc9-240109a6a04f',\n 'f8f82069-cac6-3c65-aada-c0170264facc',\n '226665f3-11a9-3a0a-b273-66d72f084183',\n 'a0333a47-d3e5-39b8-99d5-ee3efafc1d7e',\n 'a1275d20-0f08-30e6-a2be-49f933290bd0',\n '9830bded-ebb7-3053-9262-c7989819d673',\n 'f499012a-35df-350c-97cd-ee1d58b0018d',\n '8cf8d05e-1041-343a-8796-263950323822',\n 'b08d5503-7bb5-3ac5-bdaf-c126c1fd79f6',\n '0ad52f26-1c25-31b7-8b44-99e5b4a8f051',\n '19518820-f7ee-3980-9a3b-8782638ae1ba',\n 'e57a3074-aa7e-3b76-8ca2-bb144df6c813',\n '64f87122-0a42-35ca-bf7f-478c9a5d02d5',\n '643d85b9-f025-3ecb-a569-942c8e64aca0',\n '2d7a6578-81ab-330e-8e4c-5775313a3254',\n '30bf4f55-af1d-3da7-a2c0-d86f9d9253af',\n '884cb518-86bc-30a8-8d18-d68b2d5f5923',\n '812d5ec2-a738-32ce-873e-b50d2ee222a8',\n 'd7538916-add8-3754-9754-18658867f66f',\n 'f6e055af-9314-36fc-9168-c41b01cad9ab',\n '0ce457d7-b22b-3722-8ed1-abdc58e52d21',\n 'dcf0a2fa-6f9e-3d35-bd79-fe6e31b90f70',\n '06f79842-199c-300d-b10f-748edb079265',\n 'd3330f7f-c775-3d05-8d04-b85ae40c8dc7',\n '6fb970f7-08c0-3c4c-8927-9d7ff05b646b',\n '57c67388-6f30-3fdf-8d0a-f54b0c8b44ee',\n 'c1740326-80b7-329d-a3f7-1ab2351ebcbd',\n '1da697e5-c733-3ca0-bbc2-2424b0670719',\n 'f6ce3c31-2d11-34fb-a7e7-02c65c7e3155',\n 'e3b231f5-4a01-3bb5-8acd-bc199b2eec29',\n '55ea2aae-f9ef-36ba-a93f-31156cbba22c',\n '27e65719-cf27-3bdb-a024-61871ed9ccd4',\n '02a35bc3-6060-30b1-813c-0be9beddce89',\n 'ac41c779-68e4-3f84-8767-95b9f8e8c527',\n '1f5429b0-eaf9-33a0-8284-46c0d354c1f7',\n 'a31ec24e-887d-35af-91e7-b14f618e8e13',\n '92c57e70-6403-3670-883a-21f87c9157a7',\n '6f24eee4-58fc-3c54-a512-dc111efaec76',\n '36f8eb6a-a116-3e0d-98a4-7ec9983910ea',\n '442bc5eb-1eb5-393a-b9fd-fecd39444184',\n '6f42a4d7-dc3c-3d0b-9015-6ac022728de9',\n 'f4bd770b-a6a6-3401-ab72-87fe640f7364',\n 'e2d0d7e2-bcdc-37de-bca0-0e059fd9da9d',\n 'a873b73b-2f48-31c4-a1a6-c1a0f8755ef1',\n '22adf4c6-edb5-37b1-858d-478f6159e161',\n '9b5c676f-5d3f-3e5d-9e95-f35df1b268b3',\n 'b21954d6-6e10-3152-815a-5be94df0c9dd',\n '78c240bb-b474-360f-88cb-d48407a4f157',\n 'd49671c6-73b5-32b5-85c9-0263838df7b3',\n '563e0447-4dc5-337a-9f16-b1a2f3e91986',\n '2daf683b-1e4d-3c95-8497-fe2b3bebd568',\n '21b98e67-fe0d-3126-b826-f838208a4682',\n 'fe57e990-06cc-3a88-baa2-8784bb9d5640',\n '5affe9e5-026c-3aee-8509-6fddb71d2c6a',\n '7357d8f7-037c-35dd-8ba5-09d66964b327',\n '13030dd9-bee8-3944-b12b-082562934c0c',\n '188f4589-b2cb-3b45-86b2-9c670d96f92e',\n 'fc80e3be-fc45-3155-9636-ffadb8de9cbb',\n 'fabd3eb5-9c18-3447-9f3d-7ff6d9b4e4c3',\n '98fb7093-47fa-3c36-a7ac-e9f4096c5c08',\n '2428ce1c-2d63-3ef1-adc8-86b0080c0ce4',\n 'c997c785-5aa0-3a25-a8c3-334f3199badd',\n 'ef638038-ce84-3132-ba75-3782c79e91db',\n 'e96c4e4f-b939-3cec-a390-f3cdbfe6ea59',\n 'cfd2388d-0312-3d31-bf37-79e6fcfdcfb6',\n '343ef534-cce3-35ac-846f-1b6339d8acfd',\n '3859762f-09a2-3611-8012-28980cff4e10',\n '37280ddf-6dad-3d84-a20a-1b83b6a88e07',\n '5ea8c5ad-887b-3231-9713-a690e427ea10',\n '7f7f6994-098c-3771-8e5f-d44fb6ef338a',\n '9643c030-a2cf-3fff-bcd8-d6c2037d5605',\n '60ecab15-a80b-3128-8a6b-b9026e374c15',\n 'a5f22d86-d762-3abb-8344-f80afd1c86fa',\n 'aa7eba4c-1b78-3fc4-81fe-7030326266f9',\n '824ad216-c0c1-3c90-ad1a-ab59184fdb1a',\n 'b282bff7-9c11-387a-ae7c-7e298cd28c6e',\n '73b0abb7-04a1-3dd9-8422-9ac41ecf97ec',\n '06ebf54e-8fa3-35cc-bc7b-c9ba4d170aca',\n '9842f560-a2bc-39d7-9073-cad3a14a8cf4',\n '9f2acab0-850c-3bb5-ba20-9626b757a35c',\n 'b9e26e05-8009-346b-8f3e-8880f91d9bd8',\n 'cd4b4c0a-f466-3132-9c96-e2a7d7150bf4',\n 'a8ae93f0-d9ab-3ad4-8877-55a0e1356bda',\n '167f6438-a577-3476-bf39-c11b588bb7c0',\n '0b803530-4547-3792-839d-089cc21f4371',\n 'e8922ebf-bc22-3e74-a900-662a16290a1c',\n '2f752bc4-9a1a-38dd-aef7-ee71f2e72802',\n '5dd271c0-73e5-32ff-b6c6-81c5a7065aaf',\n 'ab2f859b-196d-3168-a63a-c109b17dcc1d',\n '4ee96640-28df-37e4-a812-9885a4954ad4',\n '629b2871-6469-36bb-830c-fa535e38c536',\n '7cb58e88-fc19-331d-835d-0b37dbf8695d',\n 'd8fb10e2-2ac6-3cca-b000-6506a95fdda3',\n '9ad98011-6e7b-3a84-b69a-79c29058977a',\n 'a88413a3-0a1a-3d11-a8ef-1be7c4bbfd09',\n '374a72b7-dfaf-359a-9138-71d39928d9f9',\n 'd60892e4-c365-3925-bd3e-18908e57064e',\n 'f439d1cc-fb8d-3602-a20c-d0649189b577',\n 'ad30f667-6c54-3d2e-b90b-49d95ab19470',\n '202d4c85-28b0-3245-9a11-2a82f474fe9a',\n 'a85c66fb-de35-3b14-85b3-cb02521db17f',\n '921b324d-c60e-3733-8800-c5e546882dd8',\n 'd3e16c9d-00d5-3580-906b-c585780badc2',\n '50e21849-de0b-398c-ab0d-0dbc18fd46a3',\n '75c23235-f945-3853-9c3c-95bd3b032e12',\n '56add70f-d962-3ef4-b6b8-40d36258b2c5',\n '76a9dceb-0363-398e-b71c-8ca34e728b6f',\n '017a7d2a-a3c4-38d6-af25-42d5dc2190ad',\n '8f8a90cc-de4d-3268-a904-604cd390f6e5',\n '6450ebbd-18d3-3468-9bdf-213554acd199',\n '43a89e50-0ef0-3208-9c4d-9df35209f83c',\n '4cb9676d-eaeb-35ce-a88e-ae722b280b76',\n '67511c32-723a-32f8-aab3-87043d9d2920',\n 'd2b9c2ed-79df-33d8-8ccf-7dc8f76ed6f9',\n '727d1ad2-8b0c-39ac-be7b-fa5d9e1c7632',\n '9ad491e8-f75e-30a4-ab45-c9b7cbff2246',\n 'f49033dd-f207-3120-9b88-b4f5a7932843',\n '820b54ae-f6a6-3208-b895-f82e8e329e12',\n 'd2d35e08-10aa-3400-849e-b5d830d95903',\n '051736fa-7263-3e24-8c70-a2931768d49e',\n '968c8959-ef60-3713-ab08-c1f8d2d8e5a3',\n 'ebdcac77-9109-3f33-a071-58f218d17565',\n '9e6b7797-b433-3209-b5bc-91a6fa04e63e',\n 'effbd0e7-0b91-30ea-9a72-acc09d5184f6',\n 'a75eb6c8-97c5-329d-8143-d0f2ca66b6fb',\n '795d5178-d4fe-3457-bf83-cb6f86fe84aa',\n '683aedab-429f-370c-8faf-717e98961e5c',\n '246c5a3f-6b4d-3f0e-879e-b4d3eb68e3a7',\n '63a25d12-a1ba-3e59-af82-1e71595aa884',\n '343ab69d-3a7d-3214-8abd-794ca628e691',\n '7d527068-e564-30fc-904c-ce9922a1e2e7',\n 'e9050fff-177d-3088-b504-49e304cb51bf',\n 'a4431b98-3e1e-3bfc-9ffe-0459274701d8',\n '6b4fbef3-6bb1-3bb5-94da-2a6b1df68570',\n 'b49e9614-144f-30ee-8b5b-2639c55b6000',\n '95572526-fad3-3dd3-8c0c-6738644ae0de',\n '5dcdb423-b946-3087-9806-6e68629bd7f6',\n '3049c87c-c3d4-3f70-baba-6e443e83bc74',\n 'ee069087-7d9f-383f-a4bc-89bdf5ba2786',\n 'd1cb6f2b-1c2e-361f-b65e-e9c73cfd7583',\n '5cf0d4bc-3b16-39e9-851e-35fd4fd01316',\n '8ef3cbf1-3f18-3138-a91b-bbf008091a39',\n '732c33f9-7edb-3063-93d2-a4081110dc27',\n 'cbc38fab-49f6-3f41-98f5-ff4ad4965e07',\n '26a5d350-b289-3ecb-a0e3-d1ab053f805d',\n 'f50906e8-7256-3b86-834a-45a419dea7f4',\n '04021e38-da8d-3c03-8d19-5ba24c82c3f4',\n '9c7c3fae-b9fa-39b5-a39c-792873816dbb',\n '41632dbd-2bf6-3a9e-8b34-8563090bb868',\n '3e0301fb-c713-3cd3-8215-8e3e380d4f2c',\n '644a005b-0b23-3f18-8154-b4b1f8455c2f',\n '4b5e5443-0fdf-3360-9f71-cac2a524b3d4',\n '636c4e7d-c864-3e9c-9609-de8444c84e37',\n 'ecee6439-8c40-3147-b51b-52e0dbab801d',\n '7ab867ef-84a9-3d25-874c-a01a0b67433b',\n '6797b5ae-d6f5-3065-9945-2c3acf47fde6',\n '59850a5a-59e6-325d-8436-ca1e6480043b',\n '3b28fddd-e870-354d-8ec0-bf2131129246',\n 'a6ec48c6-928b-3927-bcb9-c33526b1391a',\n '08d2578e-1b68-348f-aa9c-6431f6b83afb',\n '4d2d0cdc-f2e4-3726-8e60-b3b06999e652',\n '49506609-34f4-3e19-aede-b5c8c26e9d7e',\n 'f429eb33-ed21-3770-a5ae-4d5bd8b2efc4',\n '76489c16-a0bd-3d46-8f14-2f3eaac41a98',\n '6f4c1cf6-21f0-3bf3-8850-ec928dd513ec',\n '853b6777-b7d9-32ce-8216-aa96771e8f11',\n '91e2c32a-31be-32a8-acc3-156fa7cf78ac',\n '62201f51-ab9e-363e-9380-d2d36ddb171b',\n '2548c283-47e6-34d0-8c80-676a256fd139',\n '98655b3a-a8a6-3c34-87ba-2140da6cdf4b',\n '00452312-7dbf-3a11-9a60-2220cd7557b7',\n '7a39c9c6-2caf-3e53-b883-304efd0073c0',\n '8ef094f8-53ac-39e6-ac9a-7bba9ebfbb7f',\n '7241a1d6-0ac3-3da4-a0d0-2f037b77dde0',\n 'a97e6840-bbcd-3da2-80a1-2839bdb83efd',\n '15fed636-e792-3c59-a76d-b3870e21ca54',\n 'ae6ac5bf-a2bd-3da5-b400-2beed0d96213',\n '8e225784-d7cf-3ad6-8b0e-7ebeb98c482d',\n '36db8de6-3963-3ba6-9756-f0ce84e176a8',\n '7155d7ac-52af-367f-95ec-a7c981106ef7',\n '61d4837a-c2ea-3bfc-81c8-6b26e8efdb84',\n '3fbb2568-f53b-3617-b48c-78ced7b2ccca',\n '32a898d3-f400-310d-a23e-89841a10c0ee',\n '2da128b9-51a8-3665-addc-1c4936e8f696',\n '4579ae40-2921-3150-8c09-ffd0cc3d2667',\n '1cc5b482-a9eb-34f9-9b44-caddce473cb2',\n '9c848b08-8ebb-3548-95cd-0c492a70c80f',\n '3fbe31e9-c9be-31e4-aa93-fbd69d95f421',\n '05da2523-d5ce-3692-967c-22a12c84c7af',\n '646ba8e4-b44f-3331-b07e-af82eec90bf5',\n '00f8bb9e-47d7-38b8-9f23-9356e7b71043',\n '9c2c55a0-da6e-365c-87d9-27651fe42995',\n 'df504b5f-4839-3734-8362-90a72fd6f72c',\n '6fb74263-8786-3ff8-9660-f840357a4721',\n 'ec4b4f22-ca66-322d-a59a-0477ef35feff',\n '1744067d-5527-394f-ab44-56155c3e3f28',\n '76e1afc3-bde0-35b6-8e8c-f8606020e986',\n '8f69af44-97c3-3fdd-b73b-1489d1822b9a',\n 'f535b5f6-8e0c-328a-836c-46ca3dd78d5b',\n '47c3c66a-96b2-3c7a-9ba6-2252a0f53715',\n '470ed232-b13a-3f0f-9599-dc42fd731dae',\n 'f1ad2817-fee4-3b33-bf01-6efc930498b4',\n '4b626cc2-552e-3e3d-b011-77edaf642911',\n 'd4b1e810-241a-3d02-b7ee-b86f27c062ec',\n '6592217b-aa28-3335-b688-6b17e6a2bb09',\n 'aba5cc1b-d13d-3bdb-8f4c-64ad89c25147',\n '778d7232-bc74-3ddb-ae1c-e596e5822b3a',\n '1b870ef8-1557-3946-bb06-bf6c67d4d2cc',\n 'd43bb7db-eac0-3abd-8539-640e6b382fbf',\n '55626591-8a9e-3819-afbb-1f2e2d62df3c',\n '626b3413-0e35-3f3e-9e7a-f7e57795e3c2',\n 'd735febe-7036-377c-9dc2-ddaa59402a5a',\n '900c4ae3-e107-37df-9a88-2aa77380ffa3',\n 'a957f4a4-67fb-3b4a-af2a-0d2aa752c810',\n 'c108239f-a87b-3532-b324-4a8930857af5',\n 'a529886c-683b-30e5-94f4-a9a6baffd812',\n '50b0c09b-d617-35c1-9227-a2de8d230435',\n 'fc26a53f-2f1d-3e98-84f7-c6887c0a18e2',\n 'f5dba917-1c76-328f-90fd-357fc0a77136',\n '0eec990f-04d0-3c96-93f2-d1487776c8d7',\n '49df2a21-5c7b-3e54-b2a6-3d29e8f17445',\n 'f6d879ba-8059-320e-a0fe-d6575c96828f',\n '734366c6-26c5-364c-a049-963e58cc0f37',\n '8f7d8052-3436-3e0e-9119-d1a560e6e2ef',\n '6a54bdb3-bc74-30e8-84fa-425cf02c0e75',\n 'b51f8dea-35ee-31df-9e17-ae4769cb253a',\n 'ef59e575-96fd-30a0-922f-cb49c61634e2',\n '9a72413a-5f1f-3ca1-be7d-45a41efd7a35',\n '62ac2500-5574-3c45-80b6-bb7e860d5ce9',\n '2e9e7deb-79d2-3571-ad66-73d048ac0afe',\n 'd0a0358c-0a00-3cec-9f11-9331d5dc5d32',\n '29f5aea6-2ad2-3dd2-82b3-df62d09fbd1a',\n '659164ba-6534-3606-893a-738b57a037bf',\n 'c2b74256-d4c0-38f2-b22b-1947fd4a2c86',\n '9fb3ddf0-f153-3e35-bff1-32b60ef3b39d',\n '29db2785-e398-3b57-8083-117cb46cc186',\n '599a4ee8-deb6-3959-8569-fb8ea4fd9400',\n '9e505b7c-9851-3c67-b203-a0aaf33bcdc2',\n '5f59fd42-ac7c-39cc-9ee6-0b8b8eebafd3',\n 'f41e65ef-aa2d-33af-a450-2fcb0253a967',\n '2994e897-bd97-3a35-80c2-faad971ccecf',\n '546dc7c0-cf46-37a0-be32-54491e7fe2e4',\n '16ceed0c-d50d-387a-9682-acf890cc145f',\n '9175f629-25bf-3d25-a8eb-feb190249f95',\n '096f275f-f637-3221-bb5e-0a590342cf3e',\n 'bd1618f2-cf4c-33bd-9e2b-cba86c9f93ff',\n 'a9b86030-9945-3e20-9b22-c5700f4dc12b',\n 'd172dcfa-1046-3365-a19d-0d34cac20866',\n '593f5a75-62ae-3d7a-a871-35ed0fdf73b9',\n 'f583d2bd-f194-32f9-8708-80537dd4e5e4',\n '953ab7d4-6a99-3013-8fcc-a78a9cb3b8be',\n '47bc71b0-2b6f-3602-a72a-23582654c72a',\n 'c1bd1d0f-e706-33c6-bd70-e44227d38893',\n 'b606f452-befe-3833-95fd-ce7752882854',\n 'c429b507-3165-3be4-bc03-1cdb96eed1b3',\n '2f52a811-15b9-3840-832f-5410de0371c1',\n '07eb470d-988b-3e37-b37b-8282d43d21fa',\n '9ec7bc19-5b99-3f68-9265-0e51aeb26551',\n 'd43bb70b-42b8-3cee-9b1c-0739c104f16a',\n '56f778f4-b180-307a-bf72-942d1eded5db',\n 'd895c800-8323-3c52-b798-241e61c330ab',\n 'b64c2dfe-9eff-3f83-ab6d-8b67b1dd416f',\n 'ea42ec8b-a7de-3d32-876b-6e4401018e36',\n '6f968590-932f-3837-ac74-e0ce0cf4d894',\n '02149e31-5e8e-343a-9ec6-442ad75859e4',\n 'c50a42a0-edcf-34cb-8826-e69d71fec2e9',\n '57780460-9388-331b-a364-d1cdcf737557',\n '25f652e4-278e-3815-958c-1efe824b8226',\n 'd977d237-a4cd-30fc-b627-168d59cf3c51',\n '0149f3aa-d25c-39b4-8c06-0af829925a81',\n '1d5cb6c6-cb60-3eae-b838-988d602dd379',\n 'c86cc39f-8e2c-370e-bdaa-36de26ba6f16',\n '23fb6276-9643-3140-80e7-342026aaeba8',\n '26c337b2-7e0c-3314-a24a-c958862edada',\n '183dee32-6cbb-374e-a53b-059bb247916e',\n '6628ad94-6aa9-368a-81c5-7a1a05cff512',\n 'f13ad7db-8d8c-310f-a239-852cbde97461',\n 'c10bfbb3-64e7-339a-b4d1-7c3e36e61902',\n 'd80696ab-f1ce-388f-b691-356db0a11eee',\n 'c0b2a692-ddde-3ac7-99de-ba2c45edde18',\n 'f3d5194f-4f4e-3600-acb3-e9f7da12e4c8',\n '900a9fd5-34c4-3b9d-a127-ce50bdf21607',\n '74b9e9b5-2cfb-3363-8818-6d230a344bf0',\n 'ce0b8cc8-44f9-3259-8a91-0727499ee428',\n '92e906dd-2932-359b-805f-06b12e89cc0d',\n '78fc5f75-9daa-3ed3-9fd3-460b2b0c2b57',\n '307d4f78-e2de-353b-a353-c73283178ead',\n 'b88ad781-6f7d-3e9a-a952-408b90a52119',\n '0539e679-5a9b-3d97-9bcb-c16ed2b79227',\n 'd489283d-774c-33f8-8c79-469451cdfd29',\n '85204cbc-7e66-3946-8313-c27d149c9919',\n '77aac9ea-43b7-3660-a481-cb9109087748',\n '709eb130-f016-334b-8781-b20590541fb3',\n 'b282549a-ff2d-380d-879d-b7daedd4cc30',\n '6be4bb0c-017b-326b-910a-b2f324280298',\n '54bb7d85-1de3-35df-8c20-bf50fe829760',\n '9806e92f-465f-32c4-a333-6041bbee2e1c',\n '5ffb1066-d1d3-3ffb-87dc-e097ac558cdc',\n 'aab48c67-b620-3e30-aee0-b11d2f578501',\n '6524ca01-c244-36b1-853a-99a5901351f6',\n '0e495240-bced-3a9b-905b-381c1b8639df',\n 'bef57670-05c4-3d76-97d4-fcb00b18b231',\n 'b09e2014-3ce2-32d3-bfbd-dff4f04dcee0',\n 'cdc86ed2-304e-31d5-baa7-7ff86c14b9bb',\n 'eb921b06-f22d-39ef-a3c9-82a3781ddccf',\n '691ab049-6f18-3ce6-a9e1-c0cef7c3fc18',\n 'e4e4dcec-7a27-3a2a-81d9-1777a6f09ebc',\n 'e791eb76-1dc5-34cb-b288-32f5897565d9',\n '5385e874-a070-39dd-9e06-893cf2e65085',\n '9bbc2061-e18a-3429-ba27-70fcd65701bf',\n '1e982290-34c1-3dc2-a47c-817c143b849a',\n '7bf9f5f2-fb82-3998-a8d5-b67521d7575f',\n '56d12cc8-138e-3919-8eef-6a1e61869a1b',\n 'cf6c2c5f-d6a9-3f41-a3d2-16f789a68870',\n 'da2bdf96-24e5-30cf-b901-f13707c3e29b',\n '3d2b4cfd-1c5a-35c3-b775-bcbd5fee7ae0',\n 'e3584039-a5f8-30cf-a7fd-79ba075f996c',\n 'e1ba0654-2cda-3364-bfbd-280dba95c255',\n 'a4f419c1-d48e-3dd5-ab49-e3d01eef5fc9',\n '684fbcb9-87a6-3f5e-aa4c-3495bad74620',\n '3abb440f-f6b9-36ed-a52d-7f51b88d9cd0',\n 'ac05c9fb-6486-3c3a-b2e9-0d4f22edb392',\n 'fabda492-3d99-34b5-84cc-d79f7123b4e5',\n '8fcb5469-024e-3a34-8a51-48872b13af40',\n 'd3b57003-33af-3a14-8a3c-56db7938be4d',\n '6356764d-34d3-3d2a-8a4e-430150f4c17d',\n 'f8246bf9-5a61-3549-90ed-d53469b509df',\n '325c35a8-b2ad-3474-92e5-6a8afc3ee7cb',\n '579a61a2-c55b-3e09-b28d-f58a40545c3f',\n '1c79a65f-31f8-34d5-bccd-7778c56f43d4',\n '8178205f-6ef1-31ea-bb57-02a0baf8e7c5',\n 'aa48cfb9-aea4-3d3a-a6ea-ead8b7aea763',\n '4f746809-3760-3530-a202-7d5959e64987',\n '8fb47305-dc37-30fb-862d-e4776b87ea5e',\n '06cce4ab-c8c8-3620-b54c-a2fef287ed8c',\n '2fc595ab-3355-3305-9da2-3135a98b3657',\n 'cde9a36b-959b-3e92-9f50-fedd89488e50',\n '1cd4354e-a460-3e24-9812-6fc4eeff6efe',\n 'df4e2709-c409-37c2-ae20-4a464d0ea690',\n '45c0b2e2-7c49-36a2-b280-d1d452c73419',\n '6110866d-01e4-3be6-a0b2-1ac2b74abf91',\n '428272ea-ef7f-350a-883f-5bbea70d847e',\n 'c9649403-0cb2-3e39-8b49-416830970a38',\n '819c696e-33ee-3193-9b82-ba112faa0cb7',\n '15dca1c7-bf85-365b-9fce-e509a52f47d0',\n 'bc3afab1-d5b0-3a30-85a1-cf482ad8ec40',\n '46f3708d-e8d2-3585-821e-d2d4da8a7e7d',\n '78cf3a60-e712-36f5-8193-77368f935374',\n '6ab4d1ab-69df-339e-8dd4-f030a4e69f59',\n 'cd52de83-c3c8-3d59-9e2f-16f2dbc55fbe',\n 'd5aa83fb-1c89-312f-b56b-622f0a84e26e',\n '4cb11cf4-8177-34f6-b361-ee4af535b748',\n '2a488e11-8f3a-3b14-89ba-25a57c1254dd',\n '824042cf-47d0-3d6f-b8b5-4d13a2d14e7d',\n '2a665c73-f3ed-3062-b858-17b97a3c6a6f',\n 'bedf26c0-3aa5-3291-968b-626ba5373491',\n 'ebd300f8-85d0-37a3-961b-2b344645cba0',\n '6d1ae3ab-6ba8-3cf9-8afd-2a8f947a2d61',\n 'bc433131-b9bb-31a8-8e90-0c6eab9d1c74',\n '865e2e01-4c5d-3bb9-93a5-df83c47a7be5',\n '51e1ffae-5d45-3ed6-b17d-938e59379553',\n 'b076acdd-3c6a-3bf3-bd33-c64be496b38f',\n 'b1afdb08-e5ac-3bc7-bb2c-3daa9a00a053',\n 'c4e56812-64d0-3575-9d14-db6f8f66c57e',\n '257e9e1b-57e6-3b3e-93fd-7f8f7c793609',\n '3f62d982-a0b7-3406-a2a4-8646eeafab5d',\n 'ac0fbb6f-f52a-335d-bd8a-12ebb995b016',\n '99f8dca2-966e-3360-ba5f-c154279a5bb2',\n '3a0012b8-a4dc-33c4-a2ec-dd6004827246',\n '3639c6d1-37e6-3f64-9ccf-d32ef299c67c',\n '9a7b505b-8288-3b36-8eb7-4e4f469383a4',\n 'a7abaf44-7e7b-3911-87c0-e146c32e1448',\n '3ace4a85-2a9a-3373-820f-e81baa7a445a',\n 'c3c50903-1774-3d8c-b2d4-14f9dae16f32',\n '1a4bfc23-5947-34a9-9699-2ff4f5cb56f5',\n '8a2efcc9-c40c-38e1-9a36-b1f62c7fc636',\n 'b4a09493-3155-38f5-98b8-40b0d3aa4f75',\n '53b4052d-43bb-3caf-9b1f-810526fda305',\n '0f469d38-2804-3abd-8de4-3012700589a8',\n 'fa35a309-5011-3e21-b21a-4d7a000d5fd1',\n '455b4f64-ea42-331d-a005-4ae67c0f1cbd',\n '3c98fa2f-54ea-3362-9b2b-aec4b492546b',\n 'f1f8132e-e759-32de-bd95-374435b402bc',\n 'eb78c9d7-9c48-3a5f-bfae-5a3d0d5b26d4',\n '3f4382eb-b23d-37ee-936e-13644fde8d00',\n 'f87f9e9d-d2c4-346a-9061-7ac863b3d653',\n '3bab8095-37ed-3604-a6ab-94027ac518f2',\n 'aaca6225-d969-393a-a526-6abb7d5b211e',\n 'ce2ca4e2-5a0e-3f82-92e1-dce45b3a542d',\n 'd8adbe8a-e375-3c24-a95b-9bd7e1c9976f',\n '2849ea9d-869c-3dd0-84b2-5bfe8f39f487',\n '6487c011-c3f4-3dc8-a3e8-cb95da2e2cfd',\n '7be69627-5363-31e6-830b-8a4336c6d648',\n '5efbd182-1505-3cec-a8aa-560779e92144',\n 'b44701fa-6fdb-3783-9dba-201e7276f836',\n '13b0c612-e0a3-3c7f-a802-c538b2fe9a32',\n 'cd59ff89-01a2-3266-b361-1acd159e9339',\n '93874b60-8cab-37ef-b962-0549beb1a35d',\n '6cee857f-6331-3e56-b5e0-d75fc22bf43c',\n '1c486df3-01ad-37e0-93d0-dd068212455c',\n '03e057b4-eed6-3620-8b3f-fdbe63456df2',\n '60a94acc-4c7d-3b18-bc59-319070219e84',\n '4f187ecb-5771-34e5-9ca2-75a07f3d0665',\n '4e63e3d1-6e89-3b65-8950-837f61a2a798',\n '615bb031-d36f-3131-b9c1-80bef0e61489',\n 'c7120251-1ef7-31ed-9524-54b0b0ff824b',\n '91da5443-718f-36e5-a01f-9f71bfc2c3d8',\n '536e3112-ae57-323b-a0fc-7c92f8145e80',\n 'ea228372-978c-3d03-bfc0-db413fc3dbb2',\n ...]"
     },
     "execution_count": 18,
     "metadata": {},
     "output_type": "execute_result"
    }
   ],
   "source": [
    "train_image_ids"
   ],
   "metadata": {
    "collapsed": false,
    "ExecuteTime": {
     "end_time": "2023-07-16T08:57:39.016704500Z",
     "start_time": "2023-07-16T08:57:39.000690500Z"
    }
   }
  },
  {
   "cell_type": "code",
   "execution_count": 26,
   "outputs": [],
   "source": [
    "train_text_ids = set(dataset_qrels[\"train\"][\"text_id\"])\n",
    "validation_text_ids = set(dataset_qrels[\"validation\"][\"text_id\"])\n",
    "test_text_ids = set(dataset_qrels[\"test\"][\"text_id\"])\n"
   ],
   "metadata": {
    "collapsed": false,
    "ExecuteTime": {
     "end_time": "2023-07-16T09:01:50.600959300Z",
     "start_time": "2023-07-16T09:01:48.057168600Z"
    }
   }
  },
  {
   "cell_type": "code",
   "execution_count": 21,
   "outputs": [],
   "source": [
    "with open('train_text_ids.json', mode=\"w\", encoding=\"utf-8\") as writer:\n",
    "    json.dump(list(train_text_ids), writer)\n",
    "with open('validation_text_ids.json', mode=\"w\", encoding=\"utf-8\") as writer:\n",
    "    json.dump(list(validation_text_ids), writer)\n",
    "with open('test_text_ids.json', mode=\"w\", encoding=\"utf-8\") as writer:\n",
    "    json.dump(list(test_text_ids), writer)"
   ],
   "metadata": {
    "collapsed": false,
    "ExecuteTime": {
     "end_time": "2023-07-16T08:59:13.834371800Z",
     "start_time": "2023-07-16T08:59:13.097585100Z"
    }
   }
  },
  {
   "cell_type": "code",
   "execution_count": 22,
   "outputs": [],
   "source": [
    "with open('train_text_ids.json', mode=\"r\", encoding=\"utf-8\") as writer:\n",
    "    train_text_ids = json.load(writer)"
   ],
   "metadata": {
    "collapsed": false,
    "ExecuteTime": {
     "end_time": "2023-07-16T08:59:22.866193Z",
     "start_time": "2023-07-16T08:59:22.551245100Z"
    }
   }
  },
  {
   "cell_type": "code",
   "execution_count": 23,
   "outputs": [
    {
     "data": {
      "text/plain": "['projected-33040252-004',\n 'projected-49706125-000',\n 'projected-02748579-003',\n 'projected-12196523-000',\n 'projected-67692455-004',\n 'projected-00227982-012',\n 'projected-41955408-001',\n 'projected-07618672-001',\n 'projected-44072809-000',\n 'projected-56003484-001',\n 'projected-58259602-000',\n 'projected-27758406-002',\n 'projected-00166840-003',\n 'projected-05813966-000',\n 'projected-28476115-001',\n 'projected-26105417-000',\n 'projected-53701036-000',\n 'projected-02227750-013',\n 'projected-03150492-004',\n 'projected-04487946-005',\n 'projected-55298602-003',\n 'projected-46993036-000',\n 'projected-27097805-000',\n 'projected-03571580-001',\n 'projected-02082902-001',\n 'projected-01966797-004',\n 'projected-00885902-002',\n 'projected-12424902-002',\n 'projected-25650566-004',\n 'projected-49111450-000',\n 'projected-05053980-000',\n 'projected-50014717-004',\n 'projected-00181382-015',\n 'projected-00511252-000',\n 'projected-59084763-000',\n 'projected-00054157-000',\n 'projected-09570822-004',\n 'projected-04137934-004',\n 'projected-15056534-003',\n 'projected-36261957-001',\n 'projected-00450012-009',\n 'projected-14323556-000',\n 'projected-03975157-000',\n 'projected-03640190-000',\n 'projected-18582365-000',\n 'projected-01017230-004',\n 'projected-06942586-000',\n 'projected-19535010-000',\n 'projected-00465924-027',\n 'projected-03520203-004',\n 'projected-64585181-008',\n 'projected-04003803-002',\n 'projected-01886621-005',\n 'projected-00881899-000',\n 'projected-42750803-007',\n 'projected-25490568-000',\n 'projected-31082778-002',\n 'projected-47410081-002',\n 'projected-04036490-000',\n 'projected-16087441-000',\n 'projected-01619384-004',\n 'projected-00899387-005',\n 'projected-58704134-004',\n 'projected-29116386-002',\n 'projected-04438405-001',\n 'projected-46295418-000',\n 'projected-02194507-005',\n 'projected-34400775-003',\n 'projected-47608593-000',\n 'projected-00033229-011',\n 'projected-48758498-000',\n 'projected-00312694-006',\n 'projected-60820644-000',\n 'projected-00328924-000',\n 'projected-28135652-000',\n 'projected-41966468-000',\n 'projected-27461881-002',\n 'projected-50698811-000',\n 'projected-02454237-010',\n 'projected-06786845-000',\n 'projected-11096081-002',\n 'projected-11372624-008',\n 'projected-00044437-000',\n 'projected-09738183-002',\n 'projected-05298667-007',\n 'projected-11269195-000',\n 'projected-41103860-004',\n 'projected-00551953-002',\n 'projected-03929692-000',\n 'projected-06394225-030',\n 'projected-51138834-000',\n 'projected-46783443-003',\n 'projected-01915159-011',\n 'projected-00140469-011',\n 'projected-00017410-003',\n 'projected-40640387-000',\n 'projected-00031516-017',\n 'projected-54411747-000',\n 'projected-38120825-000',\n 'projected-00177952-006',\n 'projected-22982530-000',\n 'projected-15308727-012',\n 'projected-01141480-000',\n 'projected-43455542-002',\n 'projected-04484938-000',\n 'projected-32745286-000',\n 'projected-14479241-000',\n 'projected-25437008-006',\n 'projected-24706198-002',\n 'projected-61967314-000',\n 'projected-48500706-003',\n 'projected-02667773-001',\n 'projected-31073270-033',\n 'projected-49240278-002',\n 'projected-01742386-003',\n 'projected-37630970-001',\n 'projected-03166190-000',\n 'projected-08825495-000',\n 'projected-01053299-003',\n 'projected-44544256-000',\n 'projected-53237663-000',\n 'projected-35312641-007',\n 'projected-42073766-004',\n 'projected-40664837-000',\n 'projected-41695690-002',\n 'projected-29433777-000',\n 'projected-26495832-000',\n 'projected-51958893-008',\n 'projected-02676517-000',\n 'projected-26917071-000',\n 'projected-59170690-000',\n 'projected-00682318-000',\n 'projected-33061518-000',\n 'projected-13565692-006',\n 'projected-00567924-005',\n 'projected-28147552-000',\n 'projected-42552189-000',\n 'projected-00595008-003',\n 'projected-43387014-000',\n 'projected-04115833-003',\n 'projected-18657453-000',\n 'projected-51177300-006',\n 'projected-16882300-008',\n 'projected-01570617-000',\n 'projected-62600876-008',\n 'projected-08923162-000',\n 'projected-12273040-129',\n 'projected-03035919-007',\n 'projected-13354463-000',\n 'projected-26380436-000',\n 'projected-25223960-001',\n 'projected-32037612-003',\n 'projected-51286056-004',\n 'projected-08868770-000',\n 'projected-33469057-000',\n 'projected-09756767-000',\n 'projected-03488301-004',\n 'projected-00250092-009',\n 'projected-58509321-001',\n 'projected-01996775-000',\n 'projected-25721439-000',\n 'projected-63430321-000',\n 'projected-52177259-000',\n 'projected-35140172-000',\n 'projected-02847550-000',\n 'projected-33547497-000',\n 'projected-03469969-003',\n 'projected-12385206-002',\n 'projected-01115233-000',\n 'projected-40810150-000',\n 'projected-44858486-000',\n 'projected-64416597-000',\n 'projected-00874326-000',\n 'projected-18797137-000',\n 'projected-47417016-000',\n 'projected-07526695-000',\n 'projected-30006644-004',\n 'projected-00931785-007',\n 'projected-05604441-001',\n 'projected-47828920-000',\n 'projected-20726498-000',\n 'projected-35428414-000',\n 'projected-22510276-000',\n 'projected-34540371-000',\n 'projected-20685380-000',\n 'projected-00128243-000',\n 'projected-00933605-000',\n 'projected-00135125-006',\n 'projected-01090395-003',\n 'projected-11089827-005',\n 'projected-00885269-000',\n 'projected-38867080-009',\n 'projected-10766946-000',\n 'projected-04468184-004',\n 'projected-01729540-001',\n 'projected-34518869-000',\n 'projected-17488538-000',\n 'projected-46922842-001',\n 'projected-02881916-004',\n 'projected-00065656-049',\n 'projected-11608591-000',\n 'projected-34062893-004',\n 'projected-33151734-000',\n 'projected-02390088-000',\n 'projected-04939665-000',\n 'projected-42394951-000',\n 'projected-53368765-000',\n 'projected-00287825-003',\n 'projected-18314940-004',\n 'projected-42054366-001',\n 'projected-51590808-003',\n 'projected-34676072-000',\n 'projected-07708800-000',\n 'projected-27332680-000',\n 'projected-17945845-007',\n 'projected-14717547-000',\n 'projected-37726939-000',\n 'projected-01484140-000',\n 'projected-21146655-000',\n 'projected-24894996-000',\n 'projected-02408809-003',\n 'projected-39332823-000',\n 'projected-54953222-000',\n 'projected-29814384-000',\n 'projected-20572706-000',\n 'projected-17800759-009',\n 'projected-33565556-000',\n 'projected-43033419-002',\n 'projected-35333908-000',\n 'projected-50117073-000',\n 'projected-02080503-000',\n 'projected-33612165-003',\n 'projected-41768114-000',\n 'projected-37777213-000',\n 'projected-32393427-000',\n 'projected-00152235-000',\n 'projected-02351756-000',\n 'projected-02873632-000',\n 'projected-57884586-000',\n 'projected-11580697-000',\n 'projected-36174283-000',\n 'projected-01924210-010',\n 'projected-16825640-007',\n 'projected-28124805-000',\n 'projected-03956153-000',\n 'projected-62138539-001',\n 'projected-25924995-000',\n 'projected-24581425-001',\n 'projected-00186642-023',\n 'projected-00125722-000',\n 'projected-62885739-007',\n 'projected-40717726-000',\n 'projected-24370746-000',\n 'projected-00596576-004',\n 'projected-11237844-004',\n 'projected-68837822-003',\n 'projected-15099811-000',\n 'projected-34088245-000',\n 'projected-27094840-000',\n 'projected-20096092-004',\n 'projected-01585891-000',\n 'projected-04537765-000',\n 'projected-43525619-000',\n 'projected-38632040-001',\n 'projected-54092590-014',\n 'projected-04699866-000',\n 'projected-15242978-000',\n 'projected-00342733-003',\n 'projected-00043446-002',\n 'projected-13655872-000',\n 'projected-40768589-000',\n 'projected-57988975-000',\n 'projected-07219159-000',\n 'projected-26566928-000',\n 'projected-04137562-006',\n 'projected-17674177-000',\n 'projected-22584367-029',\n 'projected-56265532-003',\n 'projected-08841325-000',\n 'projected-50096001-000',\n 'projected-41011579-000',\n 'projected-01888051-000',\n 'projected-24885847-007',\n 'projected-06255019-000',\n 'projected-37302879-000',\n 'projected-08749153-003',\n 'projected-00044888-006',\n 'projected-23310261-000',\n 'projected-30248017-000',\n 'projected-02948082-006',\n 'projected-23469209-000',\n 'projected-31447842-004',\n 'projected-00570580-004',\n 'projected-56906894-000',\n 'projected-42451659-000',\n 'projected-00151136-004',\n 'projected-24301729-043',\n 'projected-25458916-000',\n 'projected-42180479-002',\n 'projected-00564387-017',\n 'projected-48711544-000',\n 'projected-00180763-007',\n 'projected-04686532-000',\n 'projected-26601031-002',\n 'projected-00884056-002',\n 'projected-60464513-000',\n 'projected-06195259-000',\n 'projected-00558574-002',\n 'projected-29134674-010',\n 'projected-02848006-000',\n 'projected-01155516-000',\n 'projected-30853564-001',\n 'projected-61251032-000',\n 'projected-00124650-000',\n 'projected-58424800-013',\n 'projected-00636958-000',\n 'projected-47345170-000',\n 'projected-00635632-007',\n 'projected-00042374-050',\n 'projected-05772112-000',\n 'projected-38847798-000',\n 'projected-58055373-003',\n 'projected-64162117-009',\n 'projected-20921693-002',\n 'projected-13314050-003',\n 'projected-01652494-000',\n 'projected-00747386-005',\n 'projected-63534030-000',\n 'projected-02009861-018',\n 'projected-46434258-000',\n 'projected-56865762-008',\n 'projected-02747930-000',\n 'projected-62645353-000',\n 'projected-13203252-003',\n 'projected-54334768-000',\n 'projected-08890164-000',\n 'projected-05910048-001',\n 'projected-01875200-001',\n 'projected-00065886-034',\n 'projected-00057680-006',\n 'projected-05206768-002',\n 'projected-00476649-016',\n 'projected-05285770-003',\n 'projected-00972647-001',\n 'projected-41758052-000',\n 'projected-51732300-000',\n 'projected-32073552-000',\n 'projected-11880368-000',\n 'projected-15189049-000',\n 'projected-56148048-000',\n 'projected-38152372-000',\n 'projected-04324608-000',\n 'projected-02967958-010',\n 'projected-28688759-025',\n 'projected-01420852-008',\n 'projected-27689271-002',\n 'projected-09557756-005',\n 'projected-00884795-000',\n 'projected-33061398-000',\n 'projected-40887230-000',\n 'projected-00175542-014',\n 'projected-34427879-002',\n 'projected-18136583-004',\n 'projected-48934123-005',\n 'projected-33731262-009',\n 'projected-12750531-000',\n 'projected-00509020-004',\n 'projected-00019991-000',\n 'projected-63021129-002',\n 'projected-00068453-003',\n 'projected-00694190-003',\n 'projected-03054367-000',\n 'projected-22929383-000',\n 'projected-12478637-000',\n 'projected-46268338-004',\n 'projected-03983421-005',\n 'projected-28041838-001',\n 'projected-09134023-010',\n 'projected-63266555-008',\n 'projected-25483617-000',\n 'projected-00476466-005',\n 'projected-01803389-000',\n 'projected-00276251-000',\n 'projected-18520676-000',\n 'projected-00019590-024',\n 'projected-00636088-002',\n 'projected-32830793-000',\n 'projected-00182553-014',\n 'projected-51092416-002',\n 'projected-33972607-000',\n 'projected-24427794-000',\n 'projected-30963487-000',\n 'projected-03329449-000',\n 'projected-30556186-000',\n 'projected-00509225-001',\n 'projected-18929166-000',\n 'projected-24306844-001',\n 'projected-10538065-000',\n 'projected-07381260-000',\n 'projected-00118683-003',\n 'projected-27249094-007',\n 'projected-02581981-001',\n 'projected-00014099-033',\n 'projected-06416354-001',\n 'projected-08772042-000',\n 'projected-62851122-001',\n 'projected-03072577-000',\n 'projected-55793542-003',\n 'projected-12905975-000',\n 'projected-07162036-000',\n 'projected-00200685-000',\n 'projected-01600541-002',\n 'projected-02584407-002',\n 'projected-33184017-000',\n 'projected-00426364-002',\n 'projected-00170160-019',\n 'projected-48222922-000',\n 'projected-02435810-002',\n 'projected-01980234-000',\n 'projected-09475298-004',\n 'projected-37202190-000',\n 'projected-17264574-014',\n 'projected-09481483-010',\n 'projected-32852294-000',\n 'projected-19263001-000',\n 'projected-15229542-004',\n 'projected-00337524-012',\n 'projected-41950058-001',\n 'projected-00518898-001',\n 'projected-59665067-000',\n 'projected-08669232-000',\n 'projected-00486017-026',\n 'projected-12359807-003',\n 'projected-00037857-016',\n 'projected-63805409-003',\n 'projected-00472352-000',\n 'projected-54373698-000',\n 'projected-12150640-001',\n 'projected-26538325-000',\n 'projected-05962452-000',\n 'projected-29420946-000',\n 'projected-01399037-001',\n 'projected-00052266-017',\n 'projected-38080973-014',\n 'projected-03530660-000',\n 'projected-47682998-000',\n 'projected-00268021-003',\n 'projected-00067500-000',\n 'projected-02839650-001',\n 'projected-23719082-000',\n 'projected-42952212-000',\n 'projected-33357539-000',\n 'projected-63156635-002',\n 'projected-01716007-000',\n 'projected-51206678-001',\n 'projected-02783185-000',\n 'projected-09530878-002',\n 'projected-61393191-000',\n 'projected-09831759-001',\n 'projected-37174195-008',\n 'projected-00646719-000',\n 'projected-00048921-007',\n 'projected-06764050-000',\n 'projected-01854483-000',\n 'projected-07110931-000',\n 'projected-22219418-001',\n 'projected-12867500-003',\n 'projected-04847748-000',\n 'projected-00937446-023',\n 'projected-35797289-010',\n 'projected-31916617-001',\n 'projected-21593761-017',\n 'projected-01560569-000',\n 'projected-50262515-000',\n 'projected-29529627-000',\n 'projected-05595040-000',\n 'projected-03086616-008',\n 'projected-00334317-005',\n 'projected-04609778-000',\n 'projected-45340182-000',\n 'projected-18342012-008',\n 'projected-22416330-004',\n 'projected-09424092-000',\n 'projected-08097109-000',\n 'projected-39298106-000',\n 'projected-21060712-000',\n 'projected-63271204-000',\n 'projected-18957283-006',\n 'projected-01175842-000',\n 'projected-00139710-000',\n 'projected-31603284-000',\n 'projected-05118931-000',\n 'projected-33563589-002',\n 'projected-28126863-002',\n 'projected-13561896-000',\n 'projected-10494369-000',\n 'projected-18937329-000',\n 'projected-04263367-000',\n 'projected-47178499-000',\n 'projected-57133205-000',\n 'projected-00259567-000',\n 'projected-19099507-041',\n 'projected-19388230-002',\n 'projected-06559937-000',\n 'projected-54738172-001',\n 'projected-00607691-000',\n 'projected-01866492-001',\n 'projected-09201214-000',\n 'projected-02524935-000',\n 'projected-00045470-039',\n 'projected-08016029-000',\n 'projected-23583911-000',\n 'projected-39590183-000',\n 'projected-00058647-014',\n 'projected-49837746-000',\n 'projected-01162661-000',\n 'projected-02248743-002',\n 'projected-25041352-000',\n 'projected-62776494-004',\n 'projected-00360198-000',\n 'projected-56585244-000',\n 'projected-00740734-003',\n 'projected-27644781-002',\n 'projected-12680148-000',\n 'projected-04397960-000',\n 'projected-53020396-000',\n 'projected-06918607-001',\n 'projected-07444764-000',\n 'projected-10618888-005',\n 'projected-05838658-026',\n 'projected-16524980-001',\n 'projected-24556068-000',\n 'projected-24285935-000',\n 'projected-01489506-000',\n 'projected-00759971-007',\n 'projected-07696399-003',\n 'projected-11455243-002',\n 'projected-00356655-002',\n 'projected-28342786-000',\n 'projected-01824701-001',\n 'projected-00793325-000',\n 'projected-03539097-000',\n 'projected-05237706-016',\n 'projected-52185829-000',\n 'projected-00043282-041',\n 'projected-00188448-009',\n 'projected-08380514-009',\n 'projected-43570619-001',\n 'projected-00144137-000',\n 'projected-24231509-000',\n 'projected-35894206-004',\n 'projected-63384292-000',\n 'projected-00379506-000',\n 'projected-02903398-000',\n 'projected-09384726-001',\n 'projected-04439042-000',\n 'projected-25676588-006',\n 'projected-00235904-001',\n 'projected-01817547-006',\n 'projected-46646128-000',\n 'projected-26050975-000',\n 'projected-49457286-003',\n 'projected-00651521-000',\n 'projected-00044922-000',\n 'projected-34317453-003',\n 'projected-14085244-000',\n 'projected-31973184-000',\n 'projected-37315268-000',\n 'projected-37709843-000',\n 'projected-00747067-000',\n 'projected-16941162-000',\n 'projected-12560250-000',\n 'projected-06272163-000',\n 'projected-07526139-000',\n 'projected-52912631-000',\n 'projected-06504483-000',\n 'projected-13244173-000',\n 'projected-07963832-001',\n 'projected-00602643-009',\n 'projected-41491809-008',\n 'projected-07901759-000',\n 'projected-04766655-008',\n 'projected-26840550-000',\n 'projected-59735008-005',\n 'projected-00818853-000',\n 'projected-00588506-000',\n 'projected-11038318-027',\n 'projected-09557388-000',\n 'projected-02642158-000',\n 'projected-03362281-009',\n 'projected-00157766-004',\n 'projected-18996126-000',\n 'projected-23003450-000',\n 'projected-24354344-000',\n 'projected-12173979-000',\n 'projected-02487124-002',\n 'projected-00077096-001',\n 'projected-15219423-000',\n 'projected-08154152-004',\n 'projected-04633888-000',\n 'projected-02462780-002',\n 'projected-02287416-000',\n 'projected-45204468-004',\n 'projected-13081507-012',\n 'projected-20461884-000',\n 'projected-00042620-003',\n 'projected-00452991-004',\n 'projected-02550372-002',\n 'projected-31510137-004',\n 'projected-47652398-000',\n 'projected-02910801-001',\n 'projected-36767960-000',\n 'projected-00024355-018',\n 'projected-01755093-000',\n 'projected-04280342-000',\n 'projected-40647487-000',\n 'projected-38070702-010',\n 'projected-10905616-004',\n 'projected-01456948-003',\n 'projected-03441793-003',\n 'projected-41805249-000',\n 'projected-42512344-003',\n 'projected-18048223-000',\n 'projected-26995916-000',\n 'projected-24720665-000',\n 'projected-35590920-000',\n 'projected-20274682-001',\n 'projected-23589791-003',\n 'projected-07921703-000',\n 'projected-02588604-004',\n 'projected-27498189-002',\n 'projected-02006267-003',\n 'projected-01578471-001',\n 'projected-01877647-003',\n 'projected-14128731-000',\n 'projected-23134978-000',\n 'projected-00129140-000',\n 'projected-36918421-000',\n 'projected-12937021-005',\n 'projected-44508450-002',\n 'projected-20222548-000',\n 'projected-07639734-000',\n 'projected-31541994-000',\n 'projected-07237662-000',\n 'projected-24158078-000',\n 'projected-02186512-002',\n 'projected-03023660-000',\n 'projected-08298303-000',\n 'projected-00053319-000',\n 'projected-53155433-000',\n 'projected-23655628-000',\n 'projected-59877839-003',\n 'projected-01391931-003',\n 'projected-03035985-016',\n 'projected-04514318-000',\n 'projected-05427615-002',\n 'projected-31488354-002',\n 'projected-27318184-000',\n 'projected-45579996-006',\n 'projected-32920231-001',\n 'projected-00698804-009',\n 'projected-19999038-001',\n 'projected-57290605-000',\n 'projected-30284327-000',\n 'projected-01790837-007',\n 'projected-27456624-000',\n 'projected-63529332-002',\n 'projected-27689697-000',\n 'projected-07529683-000',\n 'projected-54487029-000',\n 'projected-18373077-000',\n 'projected-25477003-037',\n 'projected-00443542-014',\n 'projected-02076281-000',\n 'projected-02648093-004',\n 'projected-60376873-000',\n 'projected-02154734-000',\n 'projected-36370451-000',\n 'projected-00089116-003',\n 'projected-35404186-001',\n 'projected-59496616-000',\n 'projected-00053846-016',\n 'projected-28461104-000',\n 'projected-17566665-000',\n 'projected-43970520-000',\n 'projected-01513620-006',\n 'projected-44258772-008',\n 'projected-00391216-000',\n 'projected-07803849-000',\n 'projected-32090980-001',\n 'projected-02525722-004',\n 'projected-23786794-000',\n 'projected-00770949-010',\n 'projected-01653136-003',\n 'projected-00398318-002',\n 'projected-01537139-004',\n 'projected-25035251-000',\n 'projected-61338992-001',\n 'projected-03424957-005',\n 'projected-61391149-009',\n 'projected-00436554-004',\n 'projected-06852933-004',\n 'projected-38793284-000',\n 'projected-47037819-003',\n 'projected-33317045-000',\n 'projected-58566214-003',\n 'projected-35224983-000',\n 'projected-00980916-003',\n 'projected-23625567-000',\n 'projected-00028267-012',\n 'projected-00595035-009',\n 'projected-27306098-000',\n 'projected-60550814-000',\n 'projected-15619062-000',\n 'projected-28509034-003',\n 'projected-27239258-000',\n 'projected-32235763-000',\n 'projected-27573678-000',\n 'projected-46797902-007',\n 'projected-03124260-001',\n 'projected-04452902-000',\n 'projected-42543695-001',\n 'projected-04340430-000',\n 'projected-60090384-000',\n 'projected-01263403-001',\n 'projected-00094882-006',\n 'projected-24746132-000',\n 'projected-20788502-000',\n 'projected-13172624-000',\n 'projected-01922144-000',\n 'projected-00372841-003',\n 'projected-11812284-006',\n 'projected-09042883-000',\n 'projected-01194604-009',\n 'projected-35619800-000',\n 'projected-25507430-005',\n 'projected-27248889-002',\n 'projected-02852780-000',\n 'projected-12051267-000',\n 'projected-00260898-002',\n 'projected-02706951-000',\n 'projected-01902379-000',\n 'projected-43730625-000',\n 'projected-24303328-000',\n 'projected-00019978-008',\n 'projected-49693346-013',\n 'projected-00564732-000',\n 'projected-26316805-018',\n 'projected-31983013-004',\n 'projected-06582433-014',\n 'projected-00609311-001',\n 'projected-00998839-018',\n 'projected-01229204-000',\n 'projected-49111389-000',\n 'projected-53061190-000',\n 'projected-00192289-001',\n 'projected-02227559-024',\n 'projected-23668247-003',\n 'projected-05044921-000',\n 'projected-53098167-000',\n 'projected-45328449-000',\n 'projected-00067340-010',\n 'projected-07362953-002',\n 'projected-00645490-005',\n 'projected-34527308-000',\n 'projected-41647293-000',\n 'projected-63990485-025',\n 'projected-59874980-000',\n 'projected-16781246-000',\n 'projected-24071884-000',\n 'projected-55284509-000',\n 'projected-00044293-014',\n 'projected-04131774-000',\n 'projected-34290637-000',\n 'projected-13069586-000',\n 'projected-05576412-001',\n 'projected-30103955-000',\n 'projected-42568913-000',\n 'projected-00053505-010',\n 'projected-12189063-000',\n 'projected-29202663-004',\n 'projected-02763225-000',\n 'projected-24119784-000',\n 'projected-38998769-000',\n 'projected-11731496-000',\n 'projected-15888623-000',\n 'projected-00011125-004',\n 'projected-00107273-000',\n 'projected-00766760-001',\n 'projected-60145224-000',\n 'projected-04448532-000',\n 'projected-01058620-010',\n 'projected-05146886-000',\n 'projected-01741068-000',\n 'projected-00256934-008',\n 'projected-25510389-000',\n 'projected-26893955-000',\n 'projected-54171625-001',\n 'projected-47677335-002',\n 'projected-00092807-002',\n 'projected-60858638-000',\n 'projected-01045705-003',\n 'projected-39218761-000',\n 'projected-02121356-014',\n 'projected-00978829-003',\n 'projected-12691503-001',\n 'projected-49244939-002',\n 'projected-42076436-000',\n 'projected-00166289-005',\n 'projected-22703159-004',\n 'projected-36760770-000',\n 'projected-42928591-000',\n 'projected-00167260-000',\n 'projected-19742167-000',\n 'projected-51194386-000',\n 'projected-43507158-000',\n 'projected-20533445-002',\n 'projected-00251833-003',\n 'projected-00293439-008',\n 'projected-00056582-006',\n 'projected-09969419-005',\n 'projected-00608388-000',\n 'projected-00068767-001',\n 'projected-24898496-004',\n 'projected-01835183-000',\n 'projected-02487396-000',\n 'projected-12762802-000',\n 'projected-58902090-000',\n 'projected-23392449-004',\n 'projected-43582646-001',\n 'projected-48301107-000',\n 'projected-31506041-000',\n 'projected-26665734-006',\n 'projected-03687095-000',\n 'projected-46220450-002',\n 'projected-50205166-003',\n 'projected-17288171-000',\n 'projected-64133378-018',\n 'projected-00018831-020',\n 'projected-01925625-000',\n 'projected-59760124-004',\n 'projected-00173821-000',\n 'projected-00157192-004',\n 'projected-26613079-001',\n 'projected-22193286-000',\n 'projected-58741793-000',\n 'projected-48059538-001',\n 'projected-51870592-002',\n 'projected-02039300-000',\n 'projected-02269543-000',\n 'projected-17633184-002',\n 'projected-12488296-003',\n 'projected-00181905-008',\n 'projected-14926081-000',\n 'projected-18732166-000',\n 'projected-25119958-000',\n 'projected-14614292-000',\n 'projected-50334939-005',\n 'projected-00494283-000',\n 'projected-00400251-005',\n 'projected-00046992-004',\n 'projected-42482327-000',\n 'projected-08762657-000',\n 'projected-04707102-000',\n 'projected-25877916-003',\n 'projected-01709441-000',\n 'projected-18842281-002',\n 'projected-09836471-000',\n 'projected-00824312-000',\n 'projected-53157175-000',\n 'projected-04631545-001',\n 'projected-43472616-000',\n 'projected-57303349-000',\n 'projected-53443343-000',\n 'projected-00186190-000',\n 'projected-00809130-010',\n 'projected-34625638-000',\n 'projected-01219006-001',\n 'projected-05352815-006',\n 'projected-02107083-001',\n 'projected-47541900-000',\n 'projected-03720877-000',\n 'projected-14229497-005',\n 'projected-63283248-000',\n 'projected-00302600-002',\n 'projected-02540414-002',\n 'projected-61028100-000',\n 'projected-22798038-000',\n 'projected-01159102-001',\n 'projected-00949755-017',\n 'projected-14224456-000',\n 'projected-32694375-000',\n 'projected-27536523-000',\n 'projected-03159392-006',\n 'projected-02574253-000',\n 'projected-00015428-009',\n 'projected-44252298-009',\n 'projected-25192339-000',\n 'projected-31251108-002',\n 'projected-00322562-005',\n 'projected-17043273-000',\n 'projected-00750700-003',\n 'projected-36824676-004',\n 'projected-20831087-002',\n 'projected-29320911-000',\n 'projected-03276454-004',\n 'projected-16906083-000',\n 'projected-00086848-002',\n 'projected-48801689-000',\n 'projected-45004286-000',\n 'projected-28640360-000',\n 'projected-63502347-000',\n 'projected-61588921-001',\n 'projected-03612404-004',\n 'projected-27900914-000',\n 'projected-00435236-000',\n 'projected-48904940-000',\n 'projected-00998823-008',\n 'projected-00209129-016',\n 'projected-51146979-000',\n 'projected-51928221-000',\n 'projected-09282173-032',\n 'projected-44139410-000',\n 'projected-15888919-013',\n 'projected-12364075-008',\n 'projected-05522509-000',\n 'projected-59869793-000',\n 'projected-01034792-000',\n 'projected-05930020-005',\n 'projected-64703035-001',\n 'projected-31583983-001',\n 'projected-05768012-005',\n 'projected-01393340-006',\n 'projected-03199432-000',\n 'projected-01706794-000',\n 'projected-06806137-001',\n 'projected-55114393-000',\n 'projected-00827891-007',\n 'projected-51758770-000',\n 'projected-03166421-004',\n 'projected-01862765-003',\n 'projected-07597519-000',\n 'projected-14983541-000',\n 'projected-11231059-000',\n 'projected-04088688-007',\n 'projected-33483836-001',\n 'projected-30969088-001',\n 'projected-36525179-000',\n 'projected-31835777-004',\n 'projected-33399718-000',\n 'projected-09645761-000',\n 'projected-12735016-000',\n 'projected-61770863-000',\n 'projected-47675352-004',\n 'projected-06127918-000',\n 'projected-00577921-015',\n 'projected-30561537-000',\n 'projected-08751138-001',\n 'projected-26162623-001',\n 'projected-03645129-002',\n 'projected-02825130-000',\n 'projected-01818228-000',\n 'projected-21100009-008',\n 'projected-03081942-000',\n 'projected-09517432-000',\n 'projected-02038953-000',\n 'projected-00013399-027',\n 'projected-00718908-001',\n 'projected-02078594-000',\n 'projected-15552940-000',\n 'projected-03901134-000',\n 'projected-00032235-000',\n 'projected-03124430-000',\n 'projected-63416146-000',\n 'projected-12472060-000',\n 'projected-20815872-000',\n 'projected-30873035-001',\n 'projected-39785749-000',\n 'projected-59398544-003',\n 'projected-52107553-003',\n 'projected-00302494-000',\n 'projected-38250272-000',\n 'projected-17235431-000',\n 'projected-12668722-000',\n 'projected-01249524-022',\n 'projected-30210620-001',\n 'projected-54414749-003',\n 'projected-00578510-003',\n 'projected-15947830-000',\n 'projected-00594209-000',\n 'projected-42482685-000',\n 'projected-00893415-000',\n 'projected-16137986-000',\n 'projected-01430828-010',\n 'projected-58922707-000',\n 'projected-01862320-006',\n 'projected-00376633-001',\n 'projected-06160804-001',\n 'projected-47611795-000',\n 'projected-15115828-000',\n ...]"
     },
     "execution_count": 23,
     "metadata": {},
     "output_type": "execute_result"
    }
   ],
   "source": [
    "train_text_ids"
   ],
   "metadata": {
    "collapsed": false,
    "ExecuteTime": {
     "end_time": "2023-07-16T08:59:24.440242100Z",
     "start_time": "2023-07-16T08:59:24.424006400Z"
    }
   }
  },
  {
   "cell_type": "code",
   "execution_count": 27,
   "outputs": [],
   "source": [
    "all_image_ids =  train_image_ids.union(validation_image_ids).union(test_image_ids)\n",
    "all_text_ids = train_text_ids.union(validation_text_ids).union(test_text_ids)"
   ],
   "metadata": {
    "collapsed": false,
    "ExecuteTime": {
     "end_time": "2023-07-16T09:01:51.586273200Z",
     "start_time": "2023-07-16T09:01:50.717142300Z"
    }
   }
  },
  {
   "cell_type": "code",
   "execution_count": 28,
   "outputs": [],
   "source": [
    "with open('all_image_ids.json', mode=\"w\", encoding=\"utf-8\") as writer:\n",
    "    json.dump(list(all_image_ids), writer)\n",
    "with open('all_text_ids.json', mode=\"w\", encoding=\"utf-8\") as writer:\n",
    "    json.dump(list(all_text_ids), writer)"
   ],
   "metadata": {
    "collapsed": false,
    "ExecuteTime": {
     "end_time": "2023-07-16T09:01:53.782047700Z",
     "start_time": "2023-07-16T09:01:52.168428600Z"
    }
   }
  },
  {
   "cell_type": "code",
   "execution_count": 29,
   "outputs": [],
   "source": [
    "with open('all_image_ids.json', mode=\"r\", encoding=\"utf-8\") as writer:\n",
    "    all_image_ids = json.load(writer)"
   ],
   "metadata": {
    "collapsed": false,
    "ExecuteTime": {
     "end_time": "2023-07-16T09:01:56.609933200Z",
     "start_time": "2023-07-16T09:01:56.279044600Z"
    }
   }
  },
  {
   "cell_type": "code",
   "execution_count": 30,
   "outputs": [
    {
     "data": {
      "text/plain": "'915aaf35-fb90-345c-8de9-ecd2db20930a'"
     },
     "execution_count": 30,
     "metadata": {},
     "output_type": "execute_result"
    }
   ],
   "source": [
    "all_image_ids[0]"
   ],
   "metadata": {
    "collapsed": false,
    "ExecuteTime": {
     "end_time": "2023-07-16T09:02:06.372988700Z",
     "start_time": "2023-07-16T09:02:06.325823100Z"
    }
   }
  },
  {
   "cell_type": "code",
   "execution_count": null,
   "outputs": [],
   "source": [],
   "metadata": {
    "collapsed": false
   }
  }
 ],
 "metadata": {
  "kernelspec": {
   "display_name": "Python 3",
   "language": "python",
   "name": "python3"
  },
  "language_info": {
   "codemirror_mode": {
    "name": "ipython",
    "version": 2
   },
   "file_extension": ".py",
   "mimetype": "text/x-python",
   "name": "python",
   "nbconvert_exporter": "python",
   "pygments_lexer": "ipython2",
   "version": "2.7.6"
  }
 },
 "nbformat": 4,
 "nbformat_minor": 0
}
